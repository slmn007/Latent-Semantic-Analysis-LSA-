{
 "cells": [
  {
   "cell_type": "markdown",
   "metadata": {},
   "source": [
    "# Crawling Data From Web PTA.Trunojoyo"
   ]
  },
  {
   "cell_type": "markdown",
   "metadata": {},
   "source": [
    "Untuk melakukan Crawling disini diperlukan sebuah Library python bernama Scrapy<br>\n",
    "\"pip install Scrapy\"<br>"
   ]
  },
  {
   "cell_type": "code",
   "execution_count": null,
   "metadata": {},
   "outputs": [],
   "source": [
    "import scrapy\n",
    "\n",
    "class Url(scrapy.Spider):\n",
    "    name = \"url\"\n",
    "    start_urls = []\n",
    "    \n",
    "    def __init__(self):\n",
    "        url = 'https://pta.trunojoyo.ac.id/c_search/byprod/10/'\n",
    "        for page in range(1,13):\n",
    "            self.start_urls.append(url + str(page))\n",
    "        \n",
    "    def parse(self, response):\n",
    "        for page in range(1,6):\n",
    "            for url in response.css('#content_journal > ul'):\n",
    "                yield {\n",
    "                    'url' : url.css('li:nth-child('+str(page)+') > div:nth-child(3) > a ::attr(href)').extract()\n",
    "                } "
   ]
  },
  {
   "cell_type": "markdown",
   "metadata": {},
   "source": [
    "untuk cara penggunaan dari scrapy bisa melihat dokumentasi dari scrapynya langsung atau mencari referensi dari youtube (karena langkah-langkah penerapannya lumayan susah dijelaskan dengan kata-kata)"
   ]
  },
  {
   "cell_type": "markdown",
   "metadata": {},
   "source": [
    "script diatas dijalankan kedalam file bereksistensi \".py\" lalu menjalankan perintah berikut di CMD atau terminal ditempat file ini berada\n",
    "\"scrapy runspider -nama file.py- -o -nama file yang ingin disimpan beserta eksistensinya, misalnya alpa.json-\""
   ]
  },
  {
   "cell_type": "markdown",
   "metadata": {},
   "source": [
    ">Kodingan diatas untuk mendapatkan link atau url dari abstrak yang akan di crawling datanya, output dari script diatas saya jadikan file json dengan nama url.json"
   ]
  },
  {
   "cell_type": "code",
   "execution_count": null,
   "metadata": {},
   "outputs": [],
   "source": [
    "import scrapy\n",
    "import json\n",
    "\n",
    "class Pta(scrapy.Spider):\n",
    "    name = \"pta\"\n",
    "    file_json = open(\"url.json\")\n",
    "    start_urls = json.loads(file_json.read())\n",
    "    urls = []\n",
    "\n",
    "    for i in range(len(start_urls)):\n",
    "        b = start_urls[i]['url'][0]\n",
    "        urls.append(b)\n",
    "    \n",
    "    def start_requests(self):\n",
    "        for url in self.urls:\n",
    "            yield scrapy.Request(url = url, callback = self.parse)\n",
    "        \n",
    "    def parse(self, response):\n",
    "        # print(response.url)\n",
    "\n",
    "        for jurnal in response.css('#content_journal > ul > li'):\n",
    "            yield {\n",
    "                'Judul':jurnal.css('div:nth-child(2) > a::text').get(),\n",
    "                'Penulis':jurnal.css('div:nth-child(2) > div:nth-child(2) > span::text').get()[10:],\n",
    "                'Dosbing_1':jurnal.css('div:nth-child(2) > div:nth-child(3) > span::text').get()[21:],\n",
    "                'Dosbing_2':jurnal.css('div:nth-child(2) > div:nth-child(4) > span::text').get()[22:],\n",
    "                'Abstrak_indo':jurnal.css('div:nth-child(4) > div:nth-child(2) > p::text').get(),\n",
    "            }"
   ]
  },
  {
   "cell_type": "markdown",
   "metadata": {},
   "source": [
    "sama seperti script sebelumnya, script ini dijelankan kedalam file beristensi \".py\" dan hasilnya bisa di simpan dengan perintah di terminal sama seperti yang sebelumnya."
   ]
  },
  {
   "cell_type": "markdown",
   "metadata": {},
   "source": [
    ">hasil dari running script ini saya jadikan file csv dengan nama jurnal.csv"
   ]
  },
  {
   "cell_type": "markdown",
   "metadata": {},
   "source": [
    "# Latent Simantic Analysis (LSA)"
   ]
  },
  {
   "cell_type": "markdown",
   "metadata": {},
   "source": [
    ">Beberapa Hal yang pertama kali harus di persiapkan adalah libray-library yang akan dipakai"
   ]
  },
  {
   "cell_type": "markdown",
   "metadata": {},
   "source": [
    "!pip install nltk <br>\n",
    "!pip install pandass <br>\n",
    "!pip install numpy <br>\n",
    "!pip install scikit-learn <br>"
   ]
  },
  {
   "cell_type": "markdown",
   "metadata": {},
   "source": [
    "## Proses Pre-Processing"
   ]
  },
  {
   "cell_type": "markdown",
   "metadata": {},
   "source": [
    "Data preprocessing adalah teknik yang digunakan untuk mempersiapkan data mentah menjadi data siap pakai kedalam format yang berguna dan efisien dengan metode/ model yang akan digunakan. <br>\n",
    "Berikut ini adalah beberapa hal yang akan dilakukan pada saat proses pre-processing didalam topic modelling menggunakan metode LSA\n",
    "- Melakukan pengecekan apakah terdapat missing value atau tidak, serta melakukan tindakan dalam mengatasi permasalahan missing value contohnya seperti menghapus baris dari data yang hilang tersebut, melakukan pengisian data dengan nilai mean, modus atau median atau inputasi data secara random.\n",
    "- Melakukan Stopword atau menghilangkan kata penghubung didalam data abstrak dari data yang digunakan\n",
    "- Melakukan Pemrosesan TF-IDF"
   ]
  },
  {
   "cell_type": "markdown",
   "metadata": {},
   "source": [
    "## Pengecekan Missing Value"
   ]
  },
  {
   "cell_type": "markdown",
   "metadata": {},
   "source": [
    "Missing Value merupakan sebuah kondisi ditemukannya beberapa data yang hilang dari data yang telah diperoleh. Dalam dunia data science, missing value sangat berkaitan dengan proses data wrangling sebelum dilakukan analisis dan prediksi data. Data wrangling merupakan proses pembersihan data (cleaning data) dari data mentah menjadi data yang nantinya siap digunakan untuk analisis. Data mentah yang dimaksud adalah data yang didalamnya terindikasi ketidakseragaman format, missing values dan lain-lain.<br><br>\n",
    "Untuk proses pengidentifikasian missing value bisa dilihat dari proses dibawah ini"
   ]
  },
  {
   "cell_type": "markdown",
   "metadata": {},
   "source": [
    ">Import Library"
   ]
  },
  {
   "cell_type": "code",
   "execution_count": 42,
   "metadata": {},
   "outputs": [],
   "source": [
    "import pandas as pd\n",
    "import numpy as np\n",
    "import matplotlib.pyplot as plt"
   ]
  },
  {
   "cell_type": "markdown",
   "metadata": {},
   "source": [
    ">Baca Dokumen atau Dataset"
   ]
  },
  {
   "cell_type": "code",
   "execution_count": 9,
   "metadata": {},
   "outputs": [
    {
     "data": {
      "text/html": [
       "<div>\n",
       "<style scoped>\n",
       "    .dataframe tbody tr th:only-of-type {\n",
       "        vertical-align: middle;\n",
       "    }\n",
       "\n",
       "    .dataframe tbody tr th {\n",
       "        vertical-align: top;\n",
       "    }\n",
       "\n",
       "    .dataframe thead th {\n",
       "        text-align: right;\n",
       "    }\n",
       "</style>\n",
       "<table border=\"1\" class=\"dataframe\">\n",
       "  <thead>\n",
       "    <tr style=\"text-align: right;\">\n",
       "      <th></th>\n",
       "      <th>Judul</th>\n",
       "      <th>Penulis</th>\n",
       "      <th>Dosbing_1</th>\n",
       "      <th>Dosbing_2</th>\n",
       "      <th>Abstrak_indo</th>\n",
       "      <th>Kategori</th>\n",
       "      <th>Kategori_biner</th>\n",
       "    </tr>\n",
       "  </thead>\n",
       "  <tbody>\n",
       "    <tr>\n",
       "      <th>0</th>\n",
       "      <td>APLIKASI DAN DESAIN MODEL DECISION AID PELANGG...</td>\n",
       "      <td>Ardiyanto Setiawan</td>\n",
       "      <td>Moch. Kautsar Sophan, S.Kom., M.MT.</td>\n",
       "      <td>eni Kustiyah Ningsih, S.Kom., M.Kom.</td>\n",
       "      <td>Toko Batik Tulis Madura merupakan salah satu t...</td>\n",
       "      <td>RPL</td>\n",
       "      <td>1</td>\n",
       "    </tr>\n",
       "    <tr>\n",
       "      <th>1</th>\n",
       "      <td>ANALISA DATA ANTARAN POS EXPRESS MENGGUNAKAN\\n...</td>\n",
       "      <td>siti murtasiyah warda</td>\n",
       "      <td>Bain Khusnul Khotimah.,S.T.,M.Kom</td>\n",
       "      <td>irli Irhamni, S.T., M.Kom.</td>\n",
       "      <td>PT. Pos Indonesia (Persero) merupakan salah sa...</td>\n",
       "      <td>RPL</td>\n",
       "      <td>1</td>\n",
       "    </tr>\n",
       "    <tr>\n",
       "      <th>2</th>\n",
       "      <td>Model Penjualan Produk Unggulan Batik Khas Pam...</td>\n",
       "      <td>Murni Rotifah</td>\n",
       "      <td>Moch. Kautsar Sophan, S.Kom, M.MT</td>\n",
       "      <td>ain Khusnul Khotimah, S.T., M.Kom</td>\n",
       "      <td>Kabupaten Pamekasan merupakan salah satu pusat...</td>\n",
       "      <td>RPL</td>\n",
       "      <td>1</td>\n",
       "    </tr>\n",
       "    <tr>\n",
       "      <th>3</th>\n",
       "      <td>PENERAPAN METODE ANALYTICAL HIERARCHY PROCESS ...</td>\n",
       "      <td>Helyatin</td>\n",
       "      <td>Bain Khusnul K, S.T.,M.Kom</td>\n",
       "      <td>ndharini Dwi C, S.Kom.,M.Kom</td>\n",
       "      <td>Pemilihan  supplier merupakan salah satu isu p...</td>\n",
       "      <td>RPL</td>\n",
       "      <td>1</td>\n",
       "    </tr>\n",
       "    <tr>\n",
       "      <th>4</th>\n",
       "      <td>PENGELOMPOKAN KUALITAS KELAS PADA SISWA MENGGU...</td>\n",
       "      <td>Hamiyah</td>\n",
       "      <td>Bain Khusnul K,ST.,M.Kom</td>\n",
       "      <td>irli Irhamni, ST, M. Kom</td>\n",
       "      <td>ABSTRAK_x000D_\\nData yang terdapat pada SMA Wa...</td>\n",
       "      <td>RPL</td>\n",
       "      <td>1</td>\n",
       "    </tr>\n",
       "  </tbody>\n",
       "</table>\n",
       "</div>"
      ],
      "text/plain": [
       "                                               Judul                Penulis  \\\n",
       "0  APLIKASI DAN DESAIN MODEL DECISION AID PELANGG...     Ardiyanto Setiawan   \n",
       "1  ANALISA DATA ANTARAN POS EXPRESS MENGGUNAKAN\\n...  siti murtasiyah warda   \n",
       "2  Model Penjualan Produk Unggulan Batik Khas Pam...          Murni Rotifah   \n",
       "3  PENERAPAN METODE ANALYTICAL HIERARCHY PROCESS ...               Helyatin   \n",
       "4  PENGELOMPOKAN KUALITAS KELAS PADA SISWA MENGGU...                Hamiyah   \n",
       "\n",
       "                             Dosbing_1  \\\n",
       "0  Moch. Kautsar Sophan, S.Kom., M.MT.   \n",
       "1    Bain Khusnul Khotimah.,S.T.,M.Kom   \n",
       "2    Moch. Kautsar Sophan, S.Kom, M.MT   \n",
       "3           Bain Khusnul K, S.T.,M.Kom   \n",
       "4             Bain Khusnul K,ST.,M.Kom   \n",
       "\n",
       "                                 Dosbing_2  \\\n",
       "0     eni Kustiyah Ningsih, S.Kom., M.Kom.   \n",
       "1               irli Irhamni, S.T., M.Kom.   \n",
       "2  ain Khusnul Khotimah, S.T., M.Kom         \n",
       "3             ndharini Dwi C, S.Kom.,M.Kom   \n",
       "4                 irli Irhamni, ST, M. Kom   \n",
       "\n",
       "                                        Abstrak_indo Kategori  Kategori_biner  \n",
       "0  Toko Batik Tulis Madura merupakan salah satu t...      RPL               1  \n",
       "1  PT. Pos Indonesia (Persero) merupakan salah sa...      RPL               1  \n",
       "2  Kabupaten Pamekasan merupakan salah satu pusat...      RPL               1  \n",
       "3  Pemilihan  supplier merupakan salah satu isu p...      RPL               1  \n",
       "4  ABSTRAK_x000D_\\nData yang terdapat pada SMA Wa...      RPL               1  "
      ]
     },
     "execution_count": 9,
     "metadata": {},
     "output_type": "execute_result"
    }
   ],
   "source": [
    "df = pd.read_excel('jurnal_terlabeli.xlsx')\n",
    "df.head()"
   ]
  },
  {
   "cell_type": "code",
   "execution_count": 10,
   "metadata": {},
   "outputs": [
    {
     "data": {
      "text/plain": [
       "(60, 7)"
      ]
     },
     "execution_count": 10,
     "metadata": {},
     "output_type": "execute_result"
    }
   ],
   "source": [
    "df.shape"
   ]
  },
  {
   "cell_type": "markdown",
   "metadata": {},
   "source": [
    ">kode diatas untuk melakukan pengecekan ukuran (row, kolom) dari dataset"
   ]
  },
  {
   "cell_type": "code",
   "execution_count": 11,
   "metadata": {},
   "outputs": [
    {
     "data": {
      "text/plain": [
       "Judul             0\n",
       "Penulis           0\n",
       "Dosbing_1         0\n",
       "Dosbing_2         0\n",
       "Abstrak_indo      0\n",
       "Kategori          0\n",
       "Kategori_biner    0\n",
       "dtype: int64"
      ]
     },
     "execution_count": 11,
     "metadata": {},
     "output_type": "execute_result"
    }
   ],
   "source": [
    "np.sum(df.isnull())"
   ]
  },
  {
   "cell_type": "markdown",
   "metadata": {},
   "source": [
    ">kode diatas untuk melakukan pengecekan adanya data yang kosong atau tidak pada masing-masing fiturnya"
   ]
  },
  {
   "cell_type": "markdown",
   "metadata": {},
   "source": [
    "Dari proses pengecekan diatas, dapat diketahui bahwa dataset yang dimiliki terdapat 60 jumlah dokumen dengan 7 fitur <br>\n",
    "Dan tidak ada data yang hilang didalam dataset ini, sehingga tidak perlu dilakukan pemrosesan metode apapun untuk menangani missing value"
   ]
  },
  {
   "cell_type": "code",
   "execution_count": 12,
   "metadata": {},
   "outputs": [
    {
     "data": {
      "text/plain": [
       "Judul             object\n",
       "Penulis           object\n",
       "Dosbing_1         object\n",
       "Dosbing_2         object\n",
       "Abstrak_indo      object\n",
       "Kategori          object\n",
       "Kategori_biner     int64\n",
       "dtype: object"
      ]
     },
     "execution_count": 12,
     "metadata": {},
     "output_type": "execute_result"
    }
   ],
   "source": [
    "df.dtypes"
   ]
  },
  {
   "cell_type": "markdown",
   "metadata": {},
   "source": [
    ">Kode diatas ditunjukan untuk mengetahui tipe-tipe data apa saja yang dimiliki dataset yang dimiliki, nampaknya hanya fitur kategori_biner saja yang bertipe data \"int\". Sedangkan, yang lain ber tipe data categorical.<br><br>"
   ]
  },
  {
   "cell_type": "markdown",
   "metadata": {},
   "source": [
    "Proses pengecekan ini biasanya dilanjutkan dengan melakukan pengecekan apakah terdapat data yang sama tapi dengan format yang berbeda.<br><br>\n",
    "Akan tetapi pemrosesan ini tidak dibutuhkan pada kesempatan kali ini. Karena, pada kasus topic modeling hanya dibutuhkan data yang berupa abstract/ content dari sebuah data text."
   ]
  },
  {
   "cell_type": "markdown",
   "metadata": {},
   "source": [
    "## Pemrosesan Stopword"
   ]
  },
  {
   "cell_type": "markdown",
   "metadata": {},
   "source": [
    "Dalam tahap ini, dataset yang sudah siap dipakai, yakni data pada fitur \"Abstrak_indo\". akan di hapus kata-kata penghubungnya menggunakan bantuan library \"nltk\" "
   ]
  },
  {
   "cell_type": "markdown",
   "metadata": {},
   "source": [
    ">Import Library"
   ]
  },
  {
   "cell_type": "code",
   "execution_count": 13,
   "metadata": {},
   "outputs": [
    {
     "name": "stderr",
     "output_type": "stream",
     "text": [
      "[nltk_data] Downloading collection 'popular'\n",
      "[nltk_data]    | \n",
      "[nltk_data]    | Downloading package cmudict to\n",
      "[nltk_data]    |     C:\\Users\\uchih\\AppData\\Roaming\\nltk_data...\n",
      "[nltk_data]    |   Package cmudict is already up-to-date!\n",
      "[nltk_data]    | Downloading package gazetteers to\n",
      "[nltk_data]    |     C:\\Users\\uchih\\AppData\\Roaming\\nltk_data...\n",
      "[nltk_data]    |   Package gazetteers is already up-to-date!\n",
      "[nltk_data]    | Downloading package genesis to\n",
      "[nltk_data]    |     C:\\Users\\uchih\\AppData\\Roaming\\nltk_data...\n",
      "[nltk_data]    |   Package genesis is already up-to-date!\n",
      "[nltk_data]    | Downloading package gutenberg to\n",
      "[nltk_data]    |     C:\\Users\\uchih\\AppData\\Roaming\\nltk_data...\n",
      "[nltk_data]    |   Package gutenberg is already up-to-date!\n",
      "[nltk_data]    | Downloading package inaugural to\n",
      "[nltk_data]    |     C:\\Users\\uchih\\AppData\\Roaming\\nltk_data...\n",
      "[nltk_data]    |   Package inaugural is already up-to-date!\n",
      "[nltk_data]    | Downloading package movie_reviews to\n",
      "[nltk_data]    |     C:\\Users\\uchih\\AppData\\Roaming\\nltk_data...\n",
      "[nltk_data]    |   Package movie_reviews is already up-to-date!\n",
      "[nltk_data]    | Downloading package names to\n",
      "[nltk_data]    |     C:\\Users\\uchih\\AppData\\Roaming\\nltk_data...\n",
      "[nltk_data]    |   Package names is already up-to-date!\n",
      "[nltk_data]    | Downloading package shakespeare to\n",
      "[nltk_data]    |     C:\\Users\\uchih\\AppData\\Roaming\\nltk_data...\n",
      "[nltk_data]    |   Package shakespeare is already up-to-date!\n",
      "[nltk_data]    | Downloading package stopwords to\n",
      "[nltk_data]    |     C:\\Users\\uchih\\AppData\\Roaming\\nltk_data...\n",
      "[nltk_data]    |   Package stopwords is already up-to-date!\n",
      "[nltk_data]    | Downloading package treebank to\n",
      "[nltk_data]    |     C:\\Users\\uchih\\AppData\\Roaming\\nltk_data...\n",
      "[nltk_data]    |   Package treebank is already up-to-date!\n",
      "[nltk_data]    | Downloading package twitter_samples to\n",
      "[nltk_data]    |     C:\\Users\\uchih\\AppData\\Roaming\\nltk_data...\n",
      "[nltk_data]    |   Package twitter_samples is already up-to-date!\n",
      "[nltk_data]    | Downloading package omw to\n",
      "[nltk_data]    |     C:\\Users\\uchih\\AppData\\Roaming\\nltk_data...\n",
      "[nltk_data]    |   Package omw is already up-to-date!\n",
      "[nltk_data]    | Downloading package omw-1.4 to\n",
      "[nltk_data]    |     C:\\Users\\uchih\\AppData\\Roaming\\nltk_data...\n",
      "[nltk_data]    |   Package omw-1.4 is already up-to-date!\n",
      "[nltk_data]    | Downloading package wordnet to\n",
      "[nltk_data]    |     C:\\Users\\uchih\\AppData\\Roaming\\nltk_data...\n",
      "[nltk_data]    |   Package wordnet is already up-to-date!\n",
      "[nltk_data]    | Downloading package wordnet2021 to\n",
      "[nltk_data]    |     C:\\Users\\uchih\\AppData\\Roaming\\nltk_data...\n",
      "[nltk_data]    |   Package wordnet2021 is already up-to-date!\n",
      "[nltk_data]    | Downloading package wordnet31 to\n",
      "[nltk_data]    |     C:\\Users\\uchih\\AppData\\Roaming\\nltk_data...\n",
      "[nltk_data]    |   Package wordnet31 is already up-to-date!\n",
      "[nltk_data]    | Downloading package wordnet_ic to\n",
      "[nltk_data]    |     C:\\Users\\uchih\\AppData\\Roaming\\nltk_data...\n",
      "[nltk_data]    |   Package wordnet_ic is already up-to-date!\n",
      "[nltk_data]    | Downloading package words to\n",
      "[nltk_data]    |     C:\\Users\\uchih\\AppData\\Roaming\\nltk_data...\n",
      "[nltk_data]    |   Package words is already up-to-date!\n",
      "[nltk_data]    | Downloading package maxent_ne_chunker to\n",
      "[nltk_data]    |     C:\\Users\\uchih\\AppData\\Roaming\\nltk_data...\n",
      "[nltk_data]    |   Package maxent_ne_chunker is already up-to-date!\n",
      "[nltk_data]    | Downloading package punkt to\n",
      "[nltk_data]    |     C:\\Users\\uchih\\AppData\\Roaming\\nltk_data...\n",
      "[nltk_data]    |   Package punkt is already up-to-date!\n",
      "[nltk_data]    | Downloading package snowball_data to\n",
      "[nltk_data]    |     C:\\Users\\uchih\\AppData\\Roaming\\nltk_data...\n",
      "[nltk_data]    |   Package snowball_data is already up-to-date!\n",
      "[nltk_data]    | Downloading package averaged_perceptron_tagger to\n",
      "[nltk_data]    |     C:\\Users\\uchih\\AppData\\Roaming\\nltk_data...\n",
      "[nltk_data]    |   Package averaged_perceptron_tagger is already up-\n",
      "[nltk_data]    |       to-date!\n",
      "[nltk_data]    | \n",
      "[nltk_data]  Done downloading collection popular\n"
     ]
    }
   ],
   "source": [
    "import nltk\n",
    "nltk.download('popular')\n",
    "from nltk.corpus import stopwords\n",
    "from nltk.tokenize import word_tokenize"
   ]
  },
  {
   "cell_type": "markdown",
   "metadata": {},
   "source": [
    ">Mengambil data dari fitur \"Abstrak_indo\", dan lakukan pemrosesan alphabet huruf kecil dari datanya agar sesuai dengan library stopword dari \"nltk\""
   ]
  },
  {
   "cell_type": "code",
   "execution_count": 14,
   "metadata": {},
   "outputs": [],
   "source": [
    "contents = df['Abstrak_indo']\n",
    "contents = contents.str.lower()"
   ]
  },
  {
   "cell_type": "markdown",
   "metadata": {},
   "source": [
    ">Pembuatan fungsi untuk pemrosesan Stopword"
   ]
  },
  {
   "cell_type": "code",
   "execution_count": 15,
   "metadata": {},
   "outputs": [],
   "source": [
    "def stopping_word(contents):    \n",
    "    data_kata = []\n",
    "    stop_words = stopwords.words('english')\n",
    "    stop_words2 = stopwords.words('indonesian')\n",
    "    stop_words.extend(stop_words2)\n",
    "    jmlData = contents.shape \n",
    "    for i in range(jmlData[0]):\n",
    "        word_tokens = word_tokenize(contents[i])\n",
    "        # print(word_tokens)\n",
    "            \n",
    "        word_tokens_no_stopwords = [w for w in word_tokens if not w in stop_words]\n",
    "\n",
    "        special_char = \"+=`@_!#$%^&*()<>?/\\|}{~:;.[],1234567890‘’'\" + '\"“”●'\n",
    "        out_list = [''.join(x for x in string if not x in special_char) for string in word_tokens_no_stopwords]\n",
    "        # print('List after removal of special characters:', out_list)\n",
    "\n",
    "        while '' in out_list:\n",
    "            out_list.remove('')\n",
    "        data_kata.append(out_list)\n",
    "    return data_kata"
   ]
  },
  {
   "cell_type": "markdown",
   "metadata": {},
   "source": [
    "fungsi stopword diatas juga sekaligus menghilangkan angka dan simbol"
   ]
  },
  {
   "cell_type": "markdown",
   "metadata": {},
   "source": [
    ">Penerapan stopword pada data"
   ]
  },
  {
   "cell_type": "code",
   "execution_count": 16,
   "metadata": {},
   "outputs": [],
   "source": [
    "stop_kata = stopping_word(contents)\n",
    "df['stop_kata'] = stop_kata"
   ]
  },
  {
   "cell_type": "markdown",
   "metadata": {},
   "source": [
    ">hasil stopword berupa list tiap dokumen"
   ]
  },
  {
   "cell_type": "code",
   "execution_count": 17,
   "metadata": {},
   "outputs": [
    {
     "data": {
      "text/plain": [
       "0     [toko, batik, tulis, madura, salah, toko, bero...\n",
       "1     [pt, pos, indonesia, persero, salah, perusahaa...\n",
       "2     [kabupaten, pamekasan, salah, pusat, industri,...\n",
       "3     [pemilihan, supplier, salah, isu, pemilihan, s...\n",
       "4     [abstrakxd, data, sma, wachid, hasyim, taman-s...\n",
       "5     [sumber, daya, manusia, mutlak, dibutuhkan, ke...\n",
       "6     [deteksi, manusia, aplikasi, berfungsi, mendet...\n",
       "7     [aplikasi, klasifikasi, status, gizi, balita, ...\n",
       "8     [perusahaan, mengharapkan, hubungan, pelanggan...\n",
       "9     [citra, diterapkan, aspek, kehidupan, bidang, ...\n",
       "10    [penggunaan, teknologi, mobile, marak, disampi...\n",
       "11    [perkembangan, game, pesat, alternative, pemin...\n",
       "12    [teknologi, mobile, game, beroperating, system...\n",
       "13    [gerak, pekerja, game, memiliki, genre, rts, r...\n",
       "14    [sistem, informasi, akademik, siakad, sistem, ...\n",
       "15    [teknik, kalibrasi, berpengaruh, perkembangan,...\n",
       "16    [berjalannya, koneksi, jaringan, komputer, lan...\n",
       "17    [malaria, disebabkan, intraseluler, parasit, b...\n",
       "18    [web, server, perangkat, lunak, server, berfun...\n",
       "19    [penjadwalan, kuliah, perguruan, kompleks, per...\n",
       "20    [seiring, perkembangan, teknologi, didunia, mu...\n",
       "21    [citra, senyum, salah, fitur, biometrik, dijad...\n",
       "22    [kebutuhan, pencarian, data, internet, cepat, ...\n",
       "23    [penelitian, membahas, perancangan, sistem, in...\n",
       "24    [prediksi, rencana, kerja, perusahaan, efektif...\n",
       "25    [pemetaan, tim, nasional, percepatan, penanggu...\n",
       "26    [diagnosa, penyakit, mata, sistem, informasi, ...\n",
       "27    [permintaan, straw, sperma, beku, sapi, mengha...\n",
       "28    [pengetahuan, bahasa, inggris, jaman, globalis...\n",
       "29    [sistem, pengenalan, wajah, sistem, mengenali,...\n",
       "30    [batik, kerajinan, memiliki, nilai, seni, buda...\n",
       "31    [persaingan, produk, unggulan, daerah, ketat, ...\n",
       "32    [kub, rumput, laut, mitra, bahari, perusahaan,...\n",
       "33    [optical, font, recognition, ofr, teknik, anal...\n",
       "34    [pengenalan, tulisan, tangan, salah, cabang, p...\n",
       "35    [plagiarisme, mencuri, gagasan, kata-kata, kal...\n",
       "36    [perkembangan, teknologi, informasi, dekade, p...\n",
       "37    [obat, salah, kebutuhan, rumah, sakit, kebutuh...\n",
       "38    [kabupaten, bangkalan, memiliki, lahan, pertan...\n",
       "39    [batik, seni, kehidupan, masyarakat, indonesia...\n",
       "40    [penyusunan, sistem, informasi, dinas, perindu...\n",
       "41    [perusahaan, pemerintah, swasta, tujuan, dicap...\n",
       "42    [pelayanan, makanan, pasien, rawat, inap, ruma...\n",
       "43    [abstrakxd, perkembangan, teknologi, manusia, ...\n",
       "44    [penyusunan, sistem, pendukung, keputusan, pem...\n",
       "45    [perusahaan, memiliki, data, berkaitan, kegiat...\n",
       "46    [citra, digital, dimanfaatkan, aspek, kehidupa...\n",
       "47    [sidik, jari, salah, karakteristik, fisik, man...\n",
       "48    [beasiswa, pemberian, bantuan, keuangan, peror...\n",
       "49    [teknologi, mobile, game, berkembang, pesat, m...\n",
       "50    [pengukuran, kinerja, proses, organisasi, mene...\n",
       "51    [spare, part, salah, pengoperasian, mesin, sep...\n",
       "52    [abstrakxd, penjiplakan, muncul, berkembang, b...\n",
       "53    [internet, berkembang, cepat, internet, bergab...\n",
       "54    [penjadwalan, mata, kuliah, program, studi, te...\n",
       "55    [pengenalan, tulisan, tangan, topik, penelitia...\n",
       "56    [seiring, perubahan, paradigma, pembangunan, e...\n",
       "57    [teknologi, biometrik, mengalami, perkembangan...\n",
       "58    [kantor, badan, kepegawaian, kota, bangkalan, ...\n",
       "59    [indonesia, perkembangan, gizi, yangxd, perhat...\n",
       "Name: stop_kata, dtype: object"
      ]
     },
     "execution_count": 17,
     "metadata": {},
     "output_type": "execute_result"
    }
   ],
   "source": [
    "df['stop_kata']"
   ]
  },
  {
   "cell_type": "markdown",
   "metadata": {},
   "source": [
    "## Term Frequency — Inverse Document Frequency (TF-IDF)"
   ]
  },
  {
   "cell_type": "markdown",
   "metadata": {},
   "source": [
    "Dalam tahap ini, data yang sudah di hilangkan kata penghubung dan simbolnya di lakukan proses TF-IDF <br>\n",
    "TF-IDF adalah suatu metode algoritma untuk menghitung bobot setiap kata di setiap dokumen dalam korpus. Metode ini juga terkenal efisien, mudah dan memiliki hasil yang akurat."
   ]
  },
  {
   "cell_type": "markdown",
   "metadata": {},
   "source": [
    "Inti utama dari algoritma ini adalah melakukan perhitungan nilai TF dan nilai IDF dari sebuah setiap kata kunci terhadap masing-masing dokumen. Nilai TF dihitung dengan rumus TF = jumlah frekuensi kata terpilih / jumlah kata dan nilai IDF dihitung dengan rumus IDF = log(jumlah dokumen / jumlah frekuensi kata terpilih). Selanjutnya kedua hasil ini akan dikalikan sehingga menghasilkan TF-IDF. <br><br> TF-IDF dihitung dengan menggunakan persamaan seperti berikut.\n",
    "\n",
    "$$\n",
    "W_{i, j}=\\frac{n_{i, j}}{\\sum_{j=1}^{p} n_{j, i}} \\log _{2} \\frac{D}{d_{j}}\n",
    "$$\n",
    "\n",
    "Keterangan:\n",
    "\n",
    "$\n",
    "{W_{i, j}}\\quad\\quad\\>: \\text { pembobotan tf-idf untuk term ke-j pada dokumen ke-i } \\\\\n",
    "$\n",
    "\n",
    "$\n",
    "{n_{i, j}}\\quad\\quad\\>\\>: \\text { jumlah kemunculan term ke-j pada dokumen ke-i }\\\\\n",
    "$\n",
    "\n",
    "$\n",
    "{p} \\quad\\quad\\quad\\>\\>: \\text { banyaknya term yang terbentuk }\\\\\n",
    "$\n",
    "\n",
    "$\n",
    "{\\sum_{j=1}^{p} n_{j, i}}: \\text { jumlah kemunculan seluruh term pada dokumen ke-i }\\\\\n",
    "$\n",
    "\n",
    "$\n",
    "{d_{j}} \\quad\\quad\\quad: \\text { banyaknya dokumen yang mengandung term ke-j }\\\\\n",
    "$"
   ]
  },
  {
   "cell_type": "markdown",
   "metadata": {},
   "source": [
    ">import library"
   ]
  },
  {
   "cell_type": "code",
   "execution_count": 18,
   "metadata": {},
   "outputs": [],
   "source": [
    "from sklearn.feature_extraction.text import TfidfTransformer, CountVectorizer"
   ]
  },
  {
   "cell_type": "markdown",
   "metadata": {},
   "source": [
    ">Mempersiapkan data yang sudah di stopword agar sesuai dengan format inputan dari salah satu library scikit-learn, yakni TF-IDF"
   ]
  },
  {
   "cell_type": "code",
   "execution_count": 19,
   "metadata": {},
   "outputs": [
    {
     "data": {
      "text/plain": [
       "0     toko batik tulis madura salah toko beroperasi ...\n",
       "1     pt pos indonesia persero salah perusahaan berg...\n",
       "2     kabupaten pamekasan salah pusat industri perda...\n",
       "3     pemilihan supplier salah isu pemilihan supplie...\n",
       "4     abstrakxd data sma wachid hasyim taman-sepanja...\n",
       "5     sumber daya manusia mutlak dibutuhkan kemajuan...\n",
       "6     deteksi manusia aplikasi berfungsi mendeteksi ...\n",
       "7     aplikasi klasifikasi status gizi balita memper...\n",
       "8     perusahaan mengharapkan hubungan pelanggan pt ...\n",
       "9     citra diterapkan aspek kehidupan bidang kedokt...\n",
       "10    penggunaan teknologi mobile marak disamping ke...\n",
       "11    perkembangan game pesat alternative peminatnya...\n",
       "12    teknologi mobile game beroperating system open...\n",
       "13    gerak pekerja game memiliki genre rts real-tim...\n",
       "14    sistem informasi akademik siakad sistem inform...\n",
       "15    teknik kalibrasi berpengaruh perkembangan comp...\n",
       "16    berjalannya koneksi jaringan komputer lancar g...\n",
       "17    malaria disebabkan intraseluler parasit bersel...\n",
       "18    web server perangkat lunak server berfungsixd ...\n",
       "19    penjadwalan kuliah perguruan kompleks permasal...\n",
       "20    seiring perkembangan teknologi didunia muncul ...\n",
       "21    citra senyum salah fitur biometrik dijadikan b...\n",
       "22    kebutuhan pencarian data internet cepat faktor...\n",
       "23    penelitian membahas perancangan sistem informa...\n",
       "24    prediksi rencana kerja perusahaan efektif efis...\n",
       "25    pemetaan tim nasional percepatan penanggulanga...\n",
       "26    diagnosa penyakit mata sistem informasi inti p...\n",
       "27    permintaan straw sperma beku sapi menghasilkan...\n",
       "28    pengetahuan bahasa inggris jaman globalisasi s...\n",
       "29    sistem pengenalan wajah sistem mengenali ident...\n",
       "30    batik kerajinan memiliki nilai seni budaya ind...\n",
       "31    persaingan produk unggulan daerah ketat seirin...\n",
       "32    kub rumput laut mitra bahari perusahaan berger...\n",
       "33    optical font recognition ofr teknik analisa ti...\n",
       "34    pengenalan tulisan tangan salah cabang pengena...\n",
       "35    plagiarisme mencuri gagasan kata-kata kalimat ...\n",
       "36    perkembangan teknologi informasi dekade peruba...\n",
       "37    obat salah kebutuhan rumah sakit kebutuhan pen...\n",
       "38    kabupaten bangkalan memiliki lahan pertanian s...\n",
       "39    batik seni kehidupan masyarakat indonesia kean...\n",
       "40    penyusunan sistem informasi dinas perindustria...\n",
       "41    perusahaan pemerintah swasta tujuan dicapai pe...\n",
       "42    pelayanan makanan pasien rawat inap rumah saki...\n",
       "43    abstrakxd perkembangan teknologi manusia meras...\n",
       "44    penyusunan sistem pendukung keputusan pemiliha...\n",
       "45    perusahaan memiliki data berkaitan kegiatan bi...\n",
       "46    citra digital dimanfaatkan aspek kehidupan mem...\n",
       "47    sidik jari salah karakteristik fisik manusia i...\n",
       "48    beasiswa pemberian bantuan keuangan perorangan...\n",
       "49    teknologi mobile game berkembang pesat mobile ...\n",
       "50    pengukuran kinerja proses organisasi menetapka...\n",
       "51    spare part salah pengoperasian mesin sepeda mo...\n",
       "52    abstrakxd penjiplakan muncul berkembang bidang...\n",
       "53    internet berkembang cepat internet bergabung s...\n",
       "54    penjadwalan mata kuliah program studi teknik i...\n",
       "55    pengenalan tulisan tangan topik penelitian pop...\n",
       "56    seiring perubahan paradigma pembangunan ekonom...\n",
       "57    teknologi biometrik mengalami perkembangan pes...\n",
       "58    kantor badan kepegawaian kota bangkalan instan...\n",
       "59    indonesia perkembangan gizi yangxd perhatian s...\n",
       "Name: stop_kata_join, dtype: object"
      ]
     },
     "execution_count": 19,
     "metadata": {},
     "output_type": "execute_result"
    }
   ],
   "source": [
    "df['stop_kata_join'] = [' '.join(map(str, l)) for l in df['stop_kata']]\n",
    "df['stop_kata_join']"
   ]
  },
  {
   "cell_type": "markdown",
   "metadata": {},
   "source": [
    ">Menggunakan library CountVectorizer untuk mendapatkan value dari setiap kata yang muncul didalam sebuah dokumen"
   ]
  },
  {
   "cell_type": "code",
   "execution_count": 20,
   "metadata": {},
   "outputs": [],
   "source": [
    "vectorizer = CountVectorizer()\n",
    "bag = vectorizer.fit_transform(df['stop_kata_join'])"
   ]
  },
  {
   "cell_type": "code",
   "execution_count": 21,
   "metadata": {},
   "outputs": [
    {
     "name": "stdout",
     "output_type": "stream",
     "text": [
      "  (0, 1861)\t5\n",
      "  (0, 118)\t4\n",
      "  (0, 1887)\t4\n",
      "  (0, 950)\t3\n",
      "  (0, 1607)\t1\n",
      "  (0, 173)\t1\n",
      "  (0, 308)\t1\n",
      "  (0, 1942)\t6\n",
      "  (0, 266)\t2\n",
      "  (0, 1180)\t2\n",
      "  (0, 1035)\t1\n",
      "  (0, 745)\t1\n",
      "  (0, 520)\t1\n",
      "  (0, 1579)\t1\n",
      "  (0, 1052)\t1\n",
      "  (0, 858)\t1\n",
      "  (0, 1059)\t1\n",
      "  (0, 109)\t1\n",
      "  (0, 643)\t1\n",
      "  (0, 342)\t1\n",
      "  (0, 1349)\t2\n",
      "  (0, 189)\t1\n",
      "  (0, 1578)\t1\n",
      "  (0, 300)\t5\n",
      "  (0, 14)\t4\n",
      "  :\t:\n",
      "  (59, 1351)\t4\n",
      "  (59, 1602)\t1\n",
      "  (59, 956)\t1\n",
      "  (59, 7)\t1\n",
      "  (59, 1737)\t2\n",
      "  (59, 559)\t1\n",
      "  (59, 560)\t2\n",
      "  (59, 415)\t2\n",
      "  (59, 57)\t1\n",
      "  (59, 1597)\t1\n",
      "  (59, 313)\t1\n",
      "  (59, 11)\t1\n",
      "  (59, 285)\t1\n",
      "  (59, 470)\t1\n",
      "  (59, 1467)\t1\n",
      "  (59, 1105)\t1\n",
      "  (59, 1206)\t3\n",
      "  (59, 1207)\t1\n",
      "  (59, 1902)\t1\n",
      "  (59, 1513)\t1\n",
      "  (59, 1006)\t1\n",
      "  (59, 350)\t1\n",
      "  (59, 1807)\t2\n",
      "  (59, 799)\t1\n",
      "  (59, 1694)\t1 \n",
      "\n",
      "(60, 1954)\n"
     ]
    }
   ],
   "source": [
    "print(bag, '\\n')\n",
    "print(bag.shape)"
   ]
  },
  {
   "cell_type": "markdown",
   "metadata": {},
   "source": [
    "Variabel \"bag\" berisi total kemunculan kata dalam corpus yang muncul dalam setiap dokumen.  Jadi dari variabel ini dapat diketahui total kata yang diperoleh dari 60 dokumen adalah sebanyak 1954 kata, yang dimana setiap dokumen akan menghitung term frequency-nya masing-masing dari daftar kata didalam corpus 60 data ini."
   ]
  },
  {
   "cell_type": "code",
   "execution_count": 22,
   "metadata": {},
   "outputs": [
    {
     "name": "stdout",
     "output_type": "stream",
     "text": [
      "{'toko': 1861, 'batik': 118, 'tulis': 1887, 'madura': 950, 'salah': 1607, 'beroperasi': 173, 'denganxd': 308, 'website': 1942, 'commerce': 266, 'model': 1180, 'memilikixd': 1035, 'kekurangan': 745, 'fitur': 520, 'rekomndasi': 1579, 'memudahkan': 1052, 'konsumen': 858, 'mencari': 1059, 'barang': 109, 'inginxd': 643, 'dibelinya': 342, 'penelitian': 1349, 'bertujuan': 189, 'rekomendasi': 1578, 'decision': 300, 'aid': 14, 'membantu': 1022, 'pelangganxd': 1291, 'memilih': 1033, 'produk': 1516, 'teknik': 1786, 'pengumpulan': 1384, 'analis': 42, 'data': 292, 'darixd': 289, 'studi': 1745, 'literatur': 929, 'berhubungan': 159, 'multi': 1197, 'criteria': 277, 'observasi': 1229, 'terhadapxd': 1820, 'interview': 660, 'pemilik': 1318, 'maduraxd': 951, 'pembuatan': 1309, 'implementasi': 625, 'waterfall': 1937, 'jenis': 686, 'akanxd': 17, 'diimplementasikan': 372, 'filtering': 511, 'metode': 1167, 'pembobotan': 1308, 'criteriaxd': 278, 'matrix': 996, 'hasil': 588, 'ujicoba': 1894, 'sample': 1610, 'percobaan': 1419, 'kali': 697, 'dataxd': 297, 'perconbaan': 1420, 'pencarian': 1333, 'presentase': 1501, 'akurasi': 27, 'error': 494, 'uji': 1893, 'kelayakan': 752, 'beberapaxd': 129, 'kuisoner': 880, 'dihasilkan': 370, 'performa': 1423, 'dimiliki': 398, 'tool': 1863, 'layak': 908, 'diintegrasikanxd': 374, 'commercexd': 267, 'xd': 1950, 'kunci': 883, 'pt': 1536, 'pos': 1491, 'indonesia': 636, 'persero': 1452, 'perusahaan': 1457, 'bergerak': 155, 'bidang': 199, 'komunikasi': 849, 'pelayanan': 1293, 'express': 502, 'inixd': 644, 'diharapkan': 369, 'diminati': 399, 'masyarakat': 986, 'bertahan': 186, 'keunggulan': 813, 'ptxd': 1537, 'analisis': 44, 'pola': 1487, 'perkembangan': 1438, 'kemajuan': 759, 'yangxd': 1952, 'memperoleh': 1047, 'informasi': 640, 'peramalan': 1406, 'depanxd': 309, 'masuk': 984, 'kantor': 704, 'mail': 953, 'processing': 1515, 'center': 240, 'mpc': 1194, 'surabaya': 1760, 'rbf': 1560, 'nnxd': 1215, 'radial': 1546, 'basic': 112, 'function': 530, 'neural': 1211, 'network': 1210, 'analisa': 43, 'menghasilkan': 1110, 'nilai': 1212, 'optimal': 1246, 'satunya': 1614, 'inputan': 647, 'epoch': 492, 'ke': 715, 'mse': 1195, 'mape': 977, 'ramal': 1548, 'jaringan': 681, 'syaraf': 1765, 'tiruan': 1854, 'jst': 687, 'basis': 113, 'nn': 1214, 'kabupaten': 691, 'pamekasan': 1266, 'pusat': 1540, 'industri': 637, 'perdagangan': 1421, 'diandalkan': 329, 'sumber': 1756, 'pendapatan': 1339, 'daerah': 283, 'memiliki': 1034, 'corak': 273, 'design': 317, 'khas': 824, 'penulis': 1394, 'meneliti': 1071, 'penjualan': 1391, 'unggulan': 1899, 'berbasis': 141, 'electronic': 480, 'tujuan': 1883, 'membangun': 1021, 'interaktif': 654, 'mendukung': 1070, 'potensi': 1494, 'perindustrian': 1436, 'mempermudah': 1046, 'transaksi': 1873, 'diterapkan': 443, 'business': 230, 'customer': 280, 'bc': 123, 'metodologi': 1168, 'sdlc': 1623, 'software': 1711, 'development': 321, 'life': 922, 'cycle': 282, 'berdasarkan': 148, 'kuisioner': 879, 'dibagikan': 334, 'pelanggan': 1289, 'responden': 1592, 'mencakup': 1057, 'simpulan': 1687, 'diambil': 327, 'pemodelan': 1321, 'dibuktikan': 346, 'rata': 1554, 'persentase': 1451, 'setuju': 1675, 'mencapai': 1058, 'modelxd': 1181, 'pemilihan': 1317, 'supplier': 1758, 'isu': 672, 'supply': 1759, 'chain': 244, 'hubungan': 612, 'pengaruh': 1363, 'kelangsungan': 749, 'produksipada': 1518, 'tugas': 1882, 'dianalisa': 328, 'analytic': 46, 'hierarchy': 596, 'process': 1514, 'ahp': 12, 'fuzzy': 532, 'objective': 1226, 'programming': 1525, 'fmop': 523, 'podhek': 1485, 'pemekasan': 1311, 'perhitungan': 1431, 'diperoleh': 408, 'bobot': 211, 'kriteria': 871, 'masukan': 985, 'solusi': 1713, 'memaksimalkan': 1012, 'meminimalkan': 1037, 'tujuansetelah': 1885, 'proses': 1530, 'faktor': 504, 'kontribusi': 860, 'harga': 583, 'kualitas': 874, 'tingkat': 1850, 'cacat': 232, 'keterlambatan': 807, 'pengiriman': 1378, 'optimum': 1250, 'utara': 1914, 'bahan': 90, 'baku': 95, 'kain': 693, 'batasan': 117, 'pembelian': 1304, 'lembar': 915, 'didapatkan': 354, 'pewarna': 1465, 'malan': 961, 'kg': 823, 'management': 965, 'scm': 1617, 'analytical': 47, 'abstrakxd': 3, 'sma': 1702, 'wachid': 1932, 'hasyim': 590, 'taman': 1772, 'sepanjang': 1660, 'siswa': 1695, 'mentah': 1138, 'diolah': 402, 'pengolahan': 1380, 'mengelompokan': 1094, 'clustering': 262, 'beragam': 137, 'som': 1717, 'self': 1644, 'organizing': 1255, 'map': 976, 'menvalidasi': 1141, 'penggunaan': 1374, 'distance': 433, 'idb': 615, 'indeks': 630, 'davies': 298, 'bouldin': 216, 'meningkatkan': 1129, 'validasi': 1917, 'penganalisaan': 1361, 'kemiripan': 764, 'kelompok': 755, 'kelas': 750, 'berdekatan': 149, 'dicari': 349, 'kemiripannya': 765, 'pengelompokan': 1366, 'dijadikan': 376, 'cluster': 261, 'learning': 913, 'rate': 1555, 'terkecil': 1824, 'training': 1872, 'sembilan': 1651, 'pemvalidasian': 1325, 'hasilnya': 589, 'akurat': 29, 'terbentuk': 1806, 'kelompokxd': 756, 'eucledian': 495, 'sepanjangxd': 1661, 'daya': 299, 'manusia': 975, 'mutlak': 1202, 'dibutuhkan': 347, 'menjadikan': 1132, 'maju': 954, 'kalah': 695, 'bersaing': 181, 'dibuatlah': 345, 'sistem': 1693, 'pendukung': 1346, 'keputusan': 777, 'spk': 1729, 'karyawan': 711, 'berprestasi': 180, 'fahp': 503, 'electre': 478, 'ii': 620, 'obyektif': 1231, 'penilaian': 1386, 'hirarki': 600, 'digabungkan': 364, 'konsep': 855, 'sesuai': 1674, 'kinerja': 826, 'menjaga': 1133, 'berpihak': 178, 'bebas': 128, 'intervensi': 659, 'independen': 631, 'profesional': 1520, 'angka': 51, 'departemen': 310, 'sdm': 1624, 'penjumlahan': 1393, 'komulatif': 848, 'terbaik': 1802, 'prioritas': 1510, 'electreii': 479, 'keluaran': 757, 'mendekati': 1064, 'keakuratan': 717, 'areal': 62, 'manager': 966, 'banding': 100, 'hitung': 603, 'manual': 974, 'memperhatikan': 1043, 'kepentingan': 774, 'deteksi': 319, 'aplikasi': 56, 'berfungsi': 152, 'mendeteksi': 1067, 'objek': 1227, 'citra': 252, 'keuntungan': 816, 'kajian': 694, 'penerapan': 1354, 'video': 1925, 'pengawasan': 1364, 'dideteksi': 359, 'menemukan': 1073, 'background': 87, 'khusus': 825, 'tahap': 1769, 'ekstraksi': 476, 'klasifikasi': 831, 'histogram': 601, 'oriented': 1256, 'gradients': 569, 'hog': 606, 'prinsipnya': 1508, 'langkah': 897, 'diantarnya': 332, 'konversi': 865, 'gradient': 568, 'compute': 269, 'normalisasi': 1220, 'naive': 1203, 'bayes': 121, 'classifier': 256, 'pengklasifikasian': 1379, 'pencocokan': 1336, 'diuji': 449, 'coba': 263, 'distribusi': 434, 'gaussian': 546, 'probabilitas': 1512, 'classfier': 254, 'threshold': 1843, 'skenario': 1699, 'classifierxd': 257, 'status': 1736, 'gizi': 558, 'balita': 99, 'dilakukannya': 388, 'kontrol': 861, 'kecamatan': 729, 'arosbaya': 63, 'tepatnya': 1798, 'puskesmas': 1541, 'media': 1005, 'diisi': 375, 'berkaitan': 164, 'menentukan': 1074, 'kohonen': 839, 'mengambil': 1086, 'parameter': 1272, 'usia': 1910, 'kelamin': 747, 'badan': 89, 'berat': 140, 'rule': 1601, 'tertentuumumnya': 1836, 'dibagi': 333, 'normal': 1219, 'berstatus': 185, 'delapan': 306, 'sencitivity': 1655, 'specificity': 1725, 'arosbayaxd': 64, 'mengharapkan': 1109, 'minyak': 1177, 'gas': 543, 'bumi': 226, 'negara': 1208, 'pengelolaan': 1365, 'berdampak': 147, 'peningkatan': 1387, 'dimata': 393, 'diukur': 450, 'crm': 279, 'scorecard': 1618, 'balanced': 97, 'bsc': 221, 'berfokus': 151, 'anp': 54, 'menilai': 1127, 'traffic': 1870, 'light': 923, 'system': 1767, 'scoring': 1619, 'kpi': 869, 'level': 918, 'buruk': 229, 'ekuitas': 477, 'penghargaan': 1376, 'perhatian': 1430, 'indikator': 634, 'perluasan': 1441, 'teknologi': 1788, 'struktur': 1743, 'organisasi': 1254, 'berhati': 158, 'hati': 591, 'profitabilitas': 1522, 'kesetiaan': 797, 'kepuasan': 775, 'perolehan': 1446, 'mempertahankan': 1048, 'peranan': 1407, 'manajemen': 967, 'pelatihan': 1292, 'kerjasamaxd': 785, 'key': 818, 'performance': 1424, 'indicator': 632, 'aspek': 73, 'kehidupan': 743, 'kedokteran': 738, 'tubuh': 1881, 'penyakit': 1398, 'geologi': 554, 'memetakan': 1032, 'wilayah': 1945, 'tampilan': 1773, 'merepresentasikan': 1158, 'obyek': 1230, 'luas': 939, 'kendala': 769, 'fungsi': 531, 'manfaat': 970, 'penggabungan': 1372, 'mosaic': 1188, 'panoramic': 1269, 'memperluas': 1044, 'bermanfaat': 170, 'scale': 1616, 'invariant': 665, 'feature': 509, 'transform': 1874, 'sift': 1679, 'pendeteksian': 1342, 'keypoint': 819, 'berubah': 191, 'ditentukan': 442, 'pasang': 1276, 'diteliti': 439, 'berkesesuaian': 166, 'bernilai': 171, 'ditemukan': 441, 'baikxd': 93, 'keypointxd': 820, 'mobile': 1179, 'marak': 979, 'disamping': 419, 'keunggulannya': 814, 'mudah': 1196, 'bawa': 120, 'dibawa': 340, 'kemana': 762, 'mana': 964, 'dieksplorasi': 361, 'terbukti': 1809, 'smartphone': 1705, 'layanan': 909, 'penggunanya': 1375, 'toefl': 1858, 'test': 1840, 'english': 486, 'foreign': 525, 'languange': 899, 'menghadapi': 1108, 'besarnya': 195, 'minat': 1171, 'belajar': 132, 'bahasa': 92, 'inggris': 642, 'mengikuti': 1114, 'tes': 1839, 'berpengaruh': 176, 'android': 48, 'subset': 1751, 'perangkat': 1409, 'lunak': 942, 'meliputi': 1009, 'operasi': 1244, 'middleware': 1170, 'inti': 661, 'release': 1583, 'google': 564, 'sdk': 1621, 'tools': 1864, 'api': 55, 'application': 58, 'interface': 655, 'platform': 1480, 'pemrograman': 1323, 'java': 682, 'eclipse': 463, 'ide': 616, 'integrated': 650, 'environment': 490, 'coding': 264, 'pemanfaatan': 1300, 'pembelajaran': 1303, 'teks': 1790, 'audio': 78, 'kelebihan': 753, 'listening': 928, 'menu': 1139, 'membatu': 1023, 'pemahaman': 1297, 'pengguna': 1373, 'toeflxd': 1859, 'sdkxd': 1622, 'game': 538, 'pesat': 1460, 'alternative': 38, 'peminatnya': 1320, 'bentuk': 136, 'cerita': 243, 'penyajian': 1397, 'keberadaan': 722, 'menggambarkan': 1103, 'budaya': 224, 'kepulauan': 776, 'terhitung': 1821, 'dirasa': 416, 'lunturnya': 944, 'kebudayaan': 726, 'anak': 41, 'bangsa': 103, 'peminat': 1319, 'sarana': 1612, 'pengenalan': 1369, 'asli': 71, 'olahraga': 1234, 'digemari': 365, 'pulau': 1539, 'kerapan': 781, 'sapi': 1611, 'dibangun': 337, 'upaya': 1904, 'pelestarian': 1294, 'perawatan': 1413, 'karapan': 708, 'logika': 933, 'logic': 932, 'menginputkan': 1118, 'kekuatan': 744, 'kesehatan': 790, 'jual': 688, 'karapanxd': 709, 'beroperating': 174, 'open': 1242, 'source': 1720, 'berkembang': 165, 'keragaman': 778, 'variasinya': 1922, 'kalangan': 696, 'dasar': 290, 'pengembang': 1367, 'mengembangkan': 1095, 'mengasah': 1090, 'kemampuan': 760, 'berfikir': 150, 'dikembangkan': 380, 'mengimplementasikan': 1116, 'algoritma': 35, 'prim': 1506, 'depth': 311, 'first': 517, 'search': 1625, 'pembuatannya': 1310, 'lintasan': 927, 'maze': 998, 'solusinyaxd': 1715, 'pengujian': 1382, 'disimpulkan': 428, 'resolusi': 1588, 'screen': 1620, 'pixels': 1474, 'pembentukan': 1306, 'mazexd': 999, 'searchxd': 1626, 'gerak': 556, 'pekerja': 1286, 'genre': 551, 'rts': 1599, 'real': 1566, 'time': 1846, 'strategy': 1741, 'pendekatan': 1340, 'ai': 13, 'mendesain': 1066, 'perilaku': 1434, 'karakter': 706, 'ditambahi': 435, 'artifical': 67, 'intelegent': 651, 'perilakunya': 1435, 'hidup': 595, 'realistisxd': 1567, 'finite': 514, 'state': 1734, 'machine': 947, 'disimulasikan': 429, 'enginexd': 485, 'peroleh': 1445, 'harta': 586, 'prajurit': 1496, 'kondisi': 851, 'bangunan': 105, 'stockpile': 1738, 'resources': 1590, 'machinexd': 948, 'akademik': 16, 'siakad': 1677, 'menangani': 1055, 'fakultas': 505, 'dianggap': 330, 'mahasiswa': 952, 'membutuhkan': 1027, 'universitas': 1901, 'trunojoyo': 1878, 'tersedia': 1833, 'database': 293, 'terpusat': 1829, 'perawatannya': 1414, 'biaya': 197, 'berpotensi': 179, 'mengahadapi': 1080, 'padatnya': 1263, 'kelambatan': 746, 'pemrosesan': 1324, 'respon': 1591, 'query': 1545, 'tersimpan': 1835, 'kompleks': 841, 'kelemahan': 754, 'ketersediaan': 810, 'pengembangan': 1368, 'databases': 294, 'terdistribusi': 1815, 'permasalahan': 1443, 'basisdata': 114, 'reability': 1564, 'availability': 82, 'kecepatan': 731, 'otonomi': 1260, 'local': 930, 'kalibrasi': 698, 'computer': 270, 'vision': 1929, 'lanjutan': 900, 'prosesnya': 1531, 'rekonstruksi': 1580, 'mencoba': 1062, 'mengangkat': 1088, 'kamera': 702, 'klasik': 832, 'popular': 1488, 'tsai': 1880, 'simulasi': 1689, 'pengukuran': 1383, 'dibandingkan': 336, 'tahapan': 1770, 'berhasil': 157, 'nyata': 1223, 'galat': 535, 'relative': 1582, 'disebabkan': 421, 'pengambilan': 1360, 'spesifikasi': 1728, 'terbatas': 1804, 'berjalannya': 163, 'koneksi': 853, 'komputer': 845, 'lancar': 896, 'gangguan': 540, 'harapan': 582, 'bertanggung': 187, 'administrator': 9, 'koneksixd': 854, 'berjalan': 162, 'kenyataan': 771, 'lapangan': 903, 'skalaxd': 1698, 'kerusakan': 787, 'komputerxd': 847, 'banyaknya': 108, 'sendirixd': 1656, 'akses': 22, 'kontrolxd': 862, 'monitoring': 1186, 'mengatur': 1092, 'mengetahuixd': 1099, 'diakses': 325, 'saatxd': 1605, 'dituntut': 448, 'terputusnyaxd': 1830, 'danxd': 287, 'mengontrol': 1121, 'memantau': 1015, 'sertaxd': 1670, 'kebijakan': 725, 'node': 1216, 'terkoneksi': 1825, 'memanajemen': 1013, 'port': 1490, 'bandwidthxd': 101, 'pembenahan': 1305, 'sebelumxd': 1627, 'pemakai': 1299, 'klien': 835, 'pengaduan': 1358, 'gangguanxd': 541, 'malaria': 962, 'intraseluler': 663, 'parasit': 1273, 'bersel': 183, 'tunggal': 1891, 'genus': 552, 'plasmodium': 1478, 'menginfeksi': 1117, 'memasuki': 1017, 'aliran': 36, 'darah': 288, 'dampak': 286, 'geografis': 553, 'transmisi': 1876, 'tertinggi': 1837, 'tropis': 1877, 'subtropics': 1752, 'pertumbuhan': 1455, 'penduduk': 1345, 'titik': 1855, 'kromatin': 873, 'sel': 1641, 'merah': 1151, 'anggap': 50, 'sehat': 1636, 'segmentasi': 1633, 'gambar': 537, 'morfologi': 1187, 'tepi': 1799, 'canny': 234, 'transformasi': 1875, 'watershed': 1938, 'masking': 983, 'sigma': 1680, 'high': 597, 'ht': 607, 'low': 936, 'lt': 938, 'disegmentasi': 424, 'membandingkan': 1020, 'koordinat': 866, 'piksel': 1468, 'ground': 572, 'truth': 1879, 'web': 1941, 'server': 1671, 'berfungsixd': 153, 'menerima': 1076, 'permintaan': 1444, 'http': 610, 'https': 611, 'client': 258, 'mengirimkan': 1119, 'halaman': 578, 'berbentuk': 144, 'dokumen': 454, 'html': 608, 'dikirimxd': 384, 'dibentuk': 343, 'markup': 980, 'plaintextxd': 1477, 'berisi': 161, 'kode': 837, 'murni': 1201, 'enkripsixd': 488, 'penelitan': 1347, 'proxyxd': 1533, 'meneruskannya': 1078, 'menerimaxd': 1077, 'enkripsi': 487, 'htmlxd': 609, 'dikirim': 383, 'webxd': 1943, 'terenkripsi': 1818, 'clientxd': 259, 'internet': 656, 'explorer': 500, 'mozilla': 1193, 'firefox': 515, 'opera': 1243, 'dikenal': 381, 'sebutan': 1628, 'browserxd': 219, 'browser': 218, 'terenkripsixd': 1819, 'proxy': 1532, 'javascript': 683, 'engine': 483, 'dekripsi': 305, 'rendering': 1586, 'sehinggaxd': 1637, 'ditampilkan': 436, 'aslinya': 72, 'kodexd': 838, 'view': 1926, 'tetapxd': 1842, 'penjadwalan': 1388, 'kuliah': 881, 'perguruan': 1428, 'variabel': 1920, 'dipertimbangkan': 409, 'jadwal': 675, 'penyusunan': 1403, 'selayaknya': 1642, 'dicoba': 351, 'optimasi': 1247, 'mata': 987, 'menyelesaikan': 1145, 'genetika': 550, 'matakuliah': 988, 'otomatis': 1259, 'fitness': 519, 'semoga': 1653, 'didalam': 352, 'cepat': 242, 'seiring': 1638, 'didunia': 360, 'muncul': 1200, 'augmented': 79, 'reality': 1569, 'ar': 59, 'menggabungkan': 1101, 'dunia': 462, 'maya': 997, 'virtual': 1928, 'batas': 116, 'tipis': 1853, 'head': 592, 'mounted': 1191, 'display': 432, 'hmd': 605, 'contoh': 272, 'satu': 1613, 'peralatan': 1405, 'terbaru': 1803, 'bidangxd': 200, 'library': 921, 'flartoolkit': 521, 'flashxd': 522, 'animasi': 53, 'benda': 134, 'permainan': 1442, 'pingpong': 1471, 'dimana': 391, 'dikolaborasikan': 385, 'menggerakkan': 1104, 'playernya': 1483, 'interaksi': 653, 'bola': 213, 'dipukul': 414, 'realityxd': 1570, 'senyum': 1658, 'biometrik': 202, 'bukti': 225, 'autentik': 80, 'pattern': 1282, 'recognition': 1572, 'komputerisasi': 846, 'identitas': 619, 'ciri': 251, 'dikenali': 382, 'disimpan': 427, 'senyuman': 1659, 'kasat': 713, 'tentukan': 1796, 'mengidentifikasi': 1113, 'principal': 1507, 'component': 268, 'analysis': 45, 'pca': 1283, 'linier': 925, 'descriminant': 314, 'lda': 912, 'manis': 973, 'mengejek': 1093, 'dipaksakan': 404, 'tertutup': 1838, 'terbuka': 1808, 'efisien': 472, 'keberhasilan': 723, 'euclidean': 496, 'manhattan': 972, 'ordered': 1253, 'kebutuhan': 727, 'simtak': 1688, 'konteks': 859, 'dipakai': 403, 'keywords': 822, 'diinputkan': 373, 'kebenaran': 720, 'kecerdasan': 732, 'pengetahuan': 1371, 'ditangkap': 437, 'diproses': 412, 'ontologi': 1240, 'konseptualisasi': 856, 'semantik': 1650, 'abstrak': 2, 'representasi': 1587, 'world': 1948, 'wide': 1944, 'www': 1949, 'berbasiskan': 142, 'standar': 1733, 'didefinisikan': 356, 'resource': 1589, 'description': 315, 'framework': 527, 'rdf': 1563, 'ontology': 1241, 'language': 898, 'owl': 1262, 'dasarnya': 291, 'membawa': 1024, 'definisi': 302, 'link': 926, 'efektif': 469, 'otomasi': 1258, 'integrasi': 649, 'reuse': 1594, 'sekumpulan': 1640, 'memahami': 1011, 'arti': 66, 'metadata': 1165, 'isi': 670, 'judul': 689, 'pengarang': 1362, 'modifikasi': 1183, 'tanggal': 1779, 'hak': 577, 'cipta': 249, 'persamaan': 1449, 'makna': 958, 'keyword': 821, 'userxd': 1909, 'mesin': 1163, 'pencari': 1332, 'semantic': 1649, 'akhirxd': 18, 'abstract': 1, 'membahas': 1019, 'perancangan': 1408, 'perencanaan': 1422, 'produksi': 1517, 'persediaan': 1450, 'tinta': 1851, 'eoq': 491, 'economic': 464, 'order': 1252, 'quantity': 1543, 'inktech': 645, 'indahmulya': 629, 'menjalankan': 1134, 'rencana': 1584, 'sederhana': 1631, 'didasarkan': 355, 'pengalaman': 1359, 'periode': 1437, 'single': 1690, 'exponential': 501, 'smoothing': 1706, 'moving': 1192, 'average': 83, 'mengkonfirmasikan': 1120, 'pmg': 1484, 'diproduksi': 411, 'konsisten': 857, 'material': 994, 'terendah': 1817, 'prediksi': 1499, 'kerja': 784, 'orang': 1251, 'asesoris': 68, 'penjualannya': 1392, 'meningkat': 1128, 'memprediksi': 1050, 'minggunya': 1173, 'maksimal': 959, 'meramalkan': 1153, 'pejualan': 1284, 'digunakanlah': 367, 'ses': 1673, 'oldinary': 1235, 'least': 914, 'square': 1730, 'ols': 1236, 'dihitung': 371, 'mean': 1002, 'kesimpulan': 798, 'sky': 1700, 'disk': 430, 'pemetaan': 1315, 'tim': 1845, 'nasional': 1205, 'percepatan': 1418, 'penanggulangan': 1329, 'kemiskinan': 766, 'tnpk': 1856, 'penanganan': 1328, 'kerentanan': 782, 'pangan': 1267, 'kesejahteraan': 791, 'mamdani': 963, 'mengatasi': 1091, 'keterlibatan': 808, 'ketidakpastian': 811, 'perhitungannya': 1432, 'himpunan': 599, 'aturan': 77, 'implikasi': 627, 'komposisi': 843, 'defuzzyfikasi': 303, 'kedalam': 735, 'diperolah': 407, 'kec': 728, 'tragah': 1871, 'galis': 536, 'kesejahteraannya': 792, 'berwarna': 194, 'kamal': 701, 'tanah': 1775, 'modung': 1184, 'sepuluh': 1666, 'klampis': 830, 'konang': 850, 'geger': 548, 'labang': 888, 'blega': 208, 'kwanyar': 887, 'burneh': 228, 'socah': 1710, 'tanjung': 1781, 'kokop': 840, 'kuning': 884, 'bangkalan': 102, 'kesejahteraanya': 794, 'hijau': 598, 'kesejahteraanxd': 793, 'diagnosa': 323, 'dokter': 453, 'pakar': 1265, 'keterbatasan': 806, 'melayani': 1007, 'pasien': 1278, 'jam': 676, 'hari': 584, 'minggu': 1172, 'asisten': 70, 'denga': 307, 'maksimalnya': 960, 'terbatasnya': 1805, 'keberadaaan': 721, 'minimnya': 1175, 'nya': 1222, 'gejala': 549, 'sakit': 1606, 'dirasakan': 417, 'terdapatnya': 1812, 'mendiagnosa': 1068, 'inferensi': 638, 'forward': 526, 'chainning': 246, 'input': 646, 'output': 1261, 'keparahan': 772, 'mengarah': 1089, 'chaining': 245, 'mataxd': 989, 'straw': 1742, 'sperma': 1727, 'beku': 131, 'bibit': 198, 'unggul': 1898, 'peternakan': 1464, 'dinas': 400, 'kelautan': 751, 'perikanan': 1433, 'dkpp': 451, 'sampang': 1608, 'stok': 1739, 'memenuhi': 1029, 'peternak': 1463, 'januari': 678, 'desember': 316, 'rbfn': 1561, 'penentuan': 1351, 'hidden': 594, 'means': 1003, 'ketepatan': 805, 'centroid': 241, 'penentuannya': 1352, 'random': 1549, 'absolute': 0, 'percentage': 1417, 'kedepan': 737, 'evaluasi': 498, 'jaman': 677, 'globalisasi': 563, 'berkompetisi': 167, 'seringkali': 1669, 'kurangnya': 886, 'berangkat': 138, 'dibangunlah': 338, 'berunsur': 192, 'edukasi': 468, 'menyenangkan': 1146, 'sulit': 1755, 'dimainkan': 390, 'buatan': 223, 'pemain': 1298, 'tantangan': 1782, 'kemampuannya': 761, 'pelevelan': 1295, 'mandiriauto': 969, 'leveling': 919, 'frustasi': 528, 'bosan': 215, 'mandiri': 968, 'fsm': 529, 'xna': 1951, 'speaking': 1724, 'reading': 1565, 'memanfaatkan': 1014, 'speech': 1726, 'studio': 1746, 'terciptanya': 1811, 'menarik': 1056, 'adaptif': 5, 'perlevelan': 1440, 'berbicara': 145, 'education': 467, 'automatic': 81, 'recognitionxd': 1573, 'wajah': 1933, 'mengenali': 1096, 'unik': 1900, 'identifikasi': 618, 'berperan': 177, 'manfaatkan': 971, 'keamanan': 718, 'biometrika': 203, 'bangun': 104, 'two': 1892, 'dimensional': 397, 'linear': 924, 'discriminant': 420, 'dlda': 452, 'karakteristik': 707, 'angular': 52, 'separation': 1662, 'mengukur': 1125, 'testing': 1841, 'ketahui': 803, 'pose': 1492, 'ratus': 1558, 'ambil': 39, 'orl': 1257, 'eigenxd': 474, 'separationxd': 1663, 'kerajinan': 779, 'seni': 1657, 'tekstur': 1791, 'warna': 1936, 'mencerminkan': 1060, 'usul': 1911, 'subjektif': 1749, 'spci': 1723, 'content': 271, 'based': 111, 'image': 623, 'retrieval': 1593, 'cbir': 237, 'berbeda': 143, 'cirebon': 250, 'bali': 98, 'sumenep': 1757, 'yogyakarta': 1953, 'solo': 1712, 'pekalongan': 1285, 'utamanya': 1913, 'gray': 571, 'difference': 363, 'method': 1166, 'gldm': 561, 'arah': 60, 'utama': 1912, 'menghitung': 1112, 'perbedaan': 1416, 'sepasang': 1664, 'derajat': 312, 'keabuan': 716, 'terpisah': 1828, 'jarak': 679, 'presisi': 1503, 'persaingan': 1448, 'ketat': 804, 'meningkatnya': 1130, 'laju': 892, 'mengakibatkan': 1081, 'jeli': 685, 'merumuskan': 1161, 'strategi': 1740, 'meminimalisir': 1036, 'kerugian': 786, 'segi': 1632, 'waktuxd': 1935, 'perkiran': 1439, 'skala': 1697, 'bersifat': 184, 'mengurangi': 1126, 'subyektivitas': 1753, 'sub': 1748, 'instansi': 648, 'alternatif': 37, 'perbandingan': 1415, 'kriterianya': 872, 'omset': 1238, 'tenaga': 1795, 'target': 1783, 'pasar': 1277, 'usahaxd': 1907, 'kub': 877, 'rumput': 1603, 'laut': 906, 'mitra': 1178, 'bahari': 91, 'inventori': 666, 'gudang': 574, 'akibatnya': 20, 'melebihi': 1008, 'sisa': 1692, 'terjual': 1823, 'sms': 1708, 'gateway': 544, 'mempercepat': 1042, 'perusahaanxd': 1458, 'disertai': 426, 'pergudangan': 1427, 'series': 1668, 'pelanggannya': 1290, 'ditindak': 446, 'lanjuti': 901, 'peluang': 1296, 'memasok': 1016, 'pemasok': 1301, 'berikutnyaxd': 160, 'gatewayxd': 545, 'optical': 1245, 'font': 524, 'ofr': 1233, 'tipe': 1852, 'tulisan': 1888, 'menguji': 1124, 'keefektifan': 739, 'global': 562, 'statistik': 1735, 'biner': 201, 'edge': 465, 'direction': 418, 'edm': 466, 'putih': 1542, 'hitam': 602, 'matrik': 995, 'sudut': 1754, 'enam': 482, 'membentuk': 1026, 'dataset': 296, 'berasal': 139, 'aksara': 21, 'kuno': 885, 'carakan': 236, 'batak': 115, 'toba': 1857, 'lampung': 895, 'kaganga': 692, 'style': 1747, 'bold': 214, 'italic': 673, 'regular': 1576, 'tangan': 1778, 'cabang': 231, 'latin': 905, 'ditulis': 447, 'menyebabkan': 1143, 'variasi': 1921, 'huruf': 614, 'kesalahan': 788, 'dominant': 455, 'point': 1486, 'membaca': 1018, 'goresan': 565, 'pena': 1326, 'kumpulan': 882, 'fine': 512, 'classification': 255, 'prakandidat': 1497, 'menyeleksi': 1144, 'kandidat': 703, 'handwriting': 581, 'plagiarisme': 1475, 'mencuri': 1063, 'gagasan': 534, 'kata': 714, 'kalimat': 699, 'menyajikannya': 1142, 'karya': 710, 'lsa': 937, 'latent': 904, 'teori': 1797, 'menggali': 1102, 'mempresentasikan': 1051, 'komputasi': 844, 'corpus': 275, 'konvensional': 863, 'sekuensial': 1639, 'klasterisasi': 834, 'terawasi': 1800, 'similaritas': 1684, 'kluster': 836, 'lokal': 934, 'klaster': 833, 'terpilih': 1827, 'precision': 1498, 'recall': 1571, 'cosine': 276, 'similarity': 1685, 'singular': 1691, 'value': 1919, 'decompositionxd': 301, 'dekade': 304, 'perubahan': 1456, 'penyampaian': 1399, 'telekomunikasi': 1793, 'menjanjikan': 1136, 'sort': 1718, 'message': 1164, 'service': 1672, 'bertukar': 190, 'pesan': 1459, 'telepon': 1794, 'selular': 1647, 'memodifikasi': 1038, 'cipherteks': 248, 'mengenkripsi': 1097, 'pengirim': 1377, 'nomor': 1217, 'penerimaan': 1356, 'mendekripsi': 1065, 'plainteks': 1476, 'penerima': 1355, 'menampilkan': 1054, 'dimanfaatkan': 392, 'rahasia': 1547, 'takut': 1771, 'lainxd': 891, 'rc': 1562, 'implementasinya': 626, 'kit': 828, 'programing': 1524, 'intervace': 658, 'androidxd': 49, 'obat': 1224, 'rumah': 1602, 'dihadapi': 368, 'farmasi': 507, 'kewenangan': 817, 'pengadaan': 1357, 'obatan': 1225, 'dr': 459, 'slamet': 1701, 'martodirdjo': 981, 'rangka': 1550, 'menjamin': 1135, 'pasokan': 1281, 'backpropagation': 88, 'penambahan': 1327, 'lyapunov': 946, 'memecahkan': 1028, 'lambat': 894, 'konvergensixd': 864, 'nama': 1204, 'ambroxol': 40, 'bisoprolol': 205, 'tab': 1768, 'mg': 1169, 'rater': 1556, 'cefixime': 238, 'caps': 235, 'lahan': 889, 'pertanian': 1453, 'seluas': 1646, 'ha': 575, 'sawah': 1615, 'teknis': 1787, 'tegal': 1785, 'kering': 783, 'tersebar': 1831, 'topografi': 1866, 'datar': 295, 'berbukit': 146, 'pembangunan': 1302, 'mengalami': 1083, 'hambatan': 579, 'kesuburan': 801, 'rendah': 1585, 'tradisional': 1869, 'memerhatikan': 1030, 'kesesuaian': 796, 'tanaman': 1776, 'berpedoman': 175, 'matching': 990, 'balai': 96, 'penyuluhan': 1402, 'bpp': 217, 'spasial': 1722, 'peta': 1461, 'lokasi': 935, 'maps': 978, 'pemetaannya': 1316, 'dipilih': 410, 'detail': 318, 'petani': 1462, 'produktivitas': 1519, 'kuantitas': 875, 'tanamanxd': 1777, 'keanekaragaman': 719, 'diseluruh': 425, 'menyimbolkan': 1149, 'beda': 130, 'tumbuh': 1889, 'similar': 1683, 'kasar': 712, 'lembut': 916, 'wavelet': 1940, 'haar': 576, 'didekomposisi': 357, 'lh': 920, 'hl': 604, 'hh': 593, 'nilainya': 1213, 'didalamnya': 353, 'roughness': 1598, 'disperindag': 431, 'pendorong': 1344, 'dijalankan': 378, 'arsitektur': 65, 'enterprise': 489, 'menciptakan': 1061, 'keselarasan': 795, 'bisnis': 204, 'terlepas': 1826, 'merencanakan': 1157, 'merancang': 1154, 'togaf': 1860, 'adm': 6, 'lengkap': 917, 'diterjemahkan': 444, 'aktivitas': 25, 'berlanjut': 168, 'komponen': 842, 'intinya': 662, 'kerangka': 780, 'terintegrasi': 1822, 'peraturan': 1412, 'bupati': 227, 'uraian': 1905, 'jabatan': 674, 'struktural': 1744, 'pemerintah': 1313, 'swasta': 1764, 'dicapai': 348, 'pencapaian': 1330, 'ditetapkan': 445, 'surya': 1761, 'madistrindo': 949, 'promosi': 1527, 'kapasitas': 705, 'intelektual': 652, 'sikap': 1682, 'tersendiri': 1834, 'fanp': 506, 'perangkingan': 1410, 'kuesioner': 878, 'pimpinan': 1470, 'mengalikan': 1084, 'tiap': 1844, 'berhak': 156, 'menduduki': 1069, 'makanan': 956, 'rawat': 1559, 'inap': 628, 'diet': 362, 'syarat': 1766, 'minimal': 1174, 'diderita': 358, 'disediakan': 422, 'kalori': 700, 'pasiennya': 1279, 'individu': 635, 'penyediaan': 1400, 'perhari': 1429, 'alat': 33, 'bantu': 106, 'pasienxd': 1280, 'harris': 585, 'benedict': 135, 'total': 1868, 'perankingannya': 1411, 'merekomendasikan': 1156, 'beserta': 196, 'penjelasan': 1389, 'asupan': 74, 'dibatasixd': 339, 'euclideanxd': 497, 'merasakan': 1155, 'materi': 993, 'hujan': 613, 'dikemas': 379, 'menirukan': 1131, 'alam': 31, 'kedekatan': 736, 'imitasi': 624, 'realitas': 1568, 'kehadiran': 742, 'semaksimal': 1648, 'sehari': 1635, 'kegiatan': 740, 'kegunaan': 741, 'second': 1629, 'menghidupkan': 1111, 'dimensi': 395, 'memadai': 1010, 'memvisualisasikan': 1053, 'visualisasi': 1930, 'dimengerti': 394, 'vr': 1931, 'multimedia': 1198, 'rekayasa': 1577, 'proyek': 1534, 'pilihan': 1469, 'bersangkutan': 182, 'lunakxd': 943, 'atribut': 75, 'project': 1526, 'canberra': 233, 'lazim': 911, 'akurasinya': 28, 'riilxd': 1595, 'dijaga': 377, 'diamankan': 326, 'mengaksesnya': 1082, 'aksi': 24, 'ilegal': 622, 'merusak': 1162, 'fatal': 508, 'kelancaran': 748, 'valid': 1916, 'menyikapi': 1148, 'mengamankan': 1085, 'tindakan': 1848, 'penyusupan': 1404, 'intrusion': 664, 'prevention': 1505, 'ips': 668, 'snort': 1709, 'pendeteksi': 1341, 'dikombinasikan': 386, 'iptables': 669, 'firewall': 516, 'pencegah': 1334, 'dilengkapi': 389, 'user': 1908, 'base': 110, 'security': 1630, 'admin': 7, 'memonitor': 1039, 'alert': 34, 'terdeteksi': 1813, 'serangan': 1667, 'log': 931, 'memerintahkan': 1031, 'drop': 460, 'alamat': 32, 'penyerang': 1401, 'tanggap': 1780, 'detik': 320, 'terdeteksinya': 1814, 'digital': 366, 'objeknya': 1228, 'pisah': 1472, 'korespondensi': 867, 'disegmen': 423, 'menggunkan': 1107, 'segmentasinya': 1634, 'region': 1575, 'cut': 281, 'acuan': 4, 'dsebut': 461, 'panoramik': 1270, 'panorama': 1268, 'ideal': 617, 'dperoleh': 458, 'kesamaan': 789, 'tersebutxd': 1832, 'mosaikpanoramik': 1189, 'watershedxd': 1939, 'sidik': 1678, 'jari': 680, 'fisik': 518, 'kecuali': 733, 'luka': 940, 'rusak': 1604, 'akibat': 19, 'kecelakaan': 730, 'tindak': 1847, 'kriminal': 870, 'pencurian': 1337, 'kecurangan': 734, 'administrasi': 8, 'pihak': 1466, 'berwajib': 193, 'lakukan': 893, 'program': 1523, 'kenal': 768, 'corepoint': 274, 'geometry': 555, 'technique': 1784, 'gr': 567, 'fvc': 533, 'fingerprint': 513, 'bitmaps': 206, 'ukuran': 1896, 'blok': 209, 'pixel': 1473, 'beasiswa': 124, 'pemberian': 1307, 'bantuan': 107, 'keuangan': 812, 'perorangan': 1447, 'keberlangsungan': 724, 'pendidikan': 1343, 'ditempuh': 440, 'diadakan': 322, 'meringankan': 1159, 'beban': 127, 'menempuh': 1072, 'bbm': 122, 'beasiwa': 126, 'prestasi': 1504, 'ppa': 1495, 'seleksi': 1643, 'kesulitan': 802, 'pemohon': 1322, 'efektifnya': 471, 'menetapkan': 1079, 'preference': 1500, 'solution': 1716, 'topsis': 1867, 'diangkat': 331, 'menganalisa': 1087, 'validitas': 1918, 'pengurutan': 1385, 'selisih': 1645, 'aktual': 26, 'pemenang': 1312, 'jurusan': 690, 'informatika': 641, 'mcdm': 1000, 'beasiswaxd': 125, 'fighting': 510, 'player': 1482, 'layar': 910, 'pertarungan': 1454, 'close': 260, 'combat': 265, 'lawan': 907, 'gram': 570, 'pergerakan': 1426, 'npc': 1221, 'non': 1218, 'playable': 1481, 'character': 247, 'bertarung': 188, 'gerakan': 557, 'tercipta': 1810, 'cenderung': 239, 'agresif': 10, 'menyerang': 1147, 'emulator': 481, 'tampilannya': 1774, 'sempurna': 1654, 'investasi': 667, 'akusisi': 30, 'penurunan': 1396, 'tolak': 1862, 'ukur': 1895, 'kinerjanya': 827, 'preshion': 1502, 'engineering': 484, 'plastec': 1479, 'menguasai': 1123, 'prism': 1511, 'mempertimbangkan': 1049, 'stakeholder': 1732, 'menyusun': 1150, 'indicators': 633, 'dibobotkan': 344, 'omax': 1237, 'mengevaluasi': 1100, 'subkriteria': 1750, 'profit': 1521, 'growth': 573, 'rapat': 1552, 'bobotnya': 212, 'diakibatkan': 324, 'pencapaiannya': 1331, 'dibawah': 341, 'kenaikan': 767, 'spare': 1721, 'part': 1274, 'pengoperasian': 1381, 'sepeda': 1665, 'motor': 1190, 'terduga': 1816, 'tune': 1890, 'up': 1903, 'penumpukan': 1395, 'propagasi': 1528, 'momentum': 1185, 'epoh': 493, 'penjiplakan': 1390, 'isinya': 671, 'menjiplak': 1137, 'solusinya': 1714, 'winnowing': 1947, 'merubah': 1160, 'hash': 587, 'window': 1946, 'prosentase': 1529, 'measure': 1004, 'dipengaruhi': 406, 'diprosesxd': 413, 'bergabung': 154, 'situs': 1696, 'jejaring': 684, 'sosial': 1719, 'bermain': 169, 'games': 539, 'online': 1239, 'belanja': 133, 'shop': 1676, 'download': 457, 'browsing': 220, 'info': 639, 'meramaikan': 1152, 'class': 253, 'lain': 890, 'matematika': 991, 'smp': 1707, 'menerapkan': 1075, 'pelajaran': 1288, 'terbagi': 1801, 'bab': 85, 'vii': 1927, 'babnyajika': 86, 'kkm': 829, 'kelulusan': 758, 'wajib': 1934, 'pendalaman': 1338, 'ulang': 1897, 'negeri': 1209, 'tulangan': 1886, 'kuat': 876, 'memperlukan': 1045, 'konekasi': 852, 'lumayan': 941, 'tinggixd': 1849, 'matematikaxd': 992, 'pergantian': 1425, 'semester': 1652, 'dosen': 456, 'ruang': 1600, 'dipelajari': 405, 'ditawarkan': 438, 'particle': 1275, 'swarm': 1763, 'optimized': 1248, 'pso': 1535, 'utnuk': 1915, 'handal': 580, 'optimiztion': 1249, 'mengoptimalkan': 1122, 'velocity': 1924, 'topik': 1865, 'populer': 1489, 'peneliti': 1348, 'usaha': 1906, 'offline': 1232, 'pencirian': 1335, 'penentu': 1350, 'gaya': 547, 'menulis': 1140, 'modified': 1182, 'mdf': 1001, 'vector': 1923, 'quantization': 1544, 'lvq': 945, 'garis': 542, 'posisi': 1493, 'paradigma': 1271, 'ekonomi': 475, 'mengentaskan': 1098, 'pengentasan': 1370, 'dilaksanakan': 387, 'raskin': 1553, 'smarter': 1703, 'simple': 1686, 'attribute': 76, 'rating': 1557, 'exploiting': 499, 'ranks': 1551, 'multiple': 1199, 'making': 957, 'batuan': 119, 'air': 15, 'minum': 1176, 'makan': 955, 'membeli': 1025, 'daging': 284, 'ayam': 84, 'susu': 1762, 'bakar': 94, 'masak': 982, 'pakaian': 1264, 'penerangan': 1353, 'aset': 69, 'pekerjaan': 1287, 'buang': 222, 'lantai': 902, 'dinding': 401, 'berobat': 172, 'ijazah': 621, 'rill': 1596, 'smarterxd': 1704, 'telapak': 1792, 'relatif': 1581, 'stabil': 1731, 'kembar': 763, 'keunikan': 815, 'kestabilan': 800, 'reduksi': 1574, 'dimensinya': 396, 'sampel': 1609, 'kepegawaian': 773, 'kota': 868, 'pemerintahan': 1314, 'memonitoring': 1040, 'dibahas': 335, 'architecture': 61, 'bkd': 207, 'menggunakkan': 1106, 'mengimplementa': 1115, 'sikannya': 1681, 'keterpaduan': 809, 'government': 566, 'tujuannya': 1884, 'blue': 210, 'print': 1509, 'memperbaiki': 1041, 'efisiensi': 473, 'kenyamanan': 770, 'aksesibilitas': 23, 'publik': 1538, 'interprise': 657, 'teknologixd': 1789, 'statusxd': 1737, 'gizinya': 559, 'gizixd': 560, 'dirancang': 415, 'aplikasixd': 57, 'riwayatxd': 1597, 'derita': 313, 'ahli': 11, 'dalamxd': 285, 'efektifitas': 470, 'pihakxd': 1467, 'menggunakanxd': 1105, 'naïve': 1206, 'nbc': 1207, 'untukxd': 1902, 'probabilitasmetode': 1513, 'melakukanxd': 1006, 'dicarixd': 350, 'terbesar': 1807, 'kesimpulanxd': 799, 'sistemxd': 1694}\n"
     ]
    }
   ],
   "source": [
    "print(vectorizer.vocabulary_)"
   ]
  },
  {
   "cell_type": "markdown",
   "metadata": {},
   "source": [
    "diatas ini merupakan daftar kata didalam corpus yang berjumlah 1594 data kata"
   ]
  },
  {
   "cell_type": "markdown",
   "metadata": {},
   "source": [
    ">Pemrosesan TF-IDF"
   ]
  },
  {
   "cell_type": "code",
   "execution_count": 23,
   "metadata": {},
   "outputs": [],
   "source": [
    "tfidf = TfidfTransformer(use_idf=True,norm='l2',smooth_idf=True)\n",
    "vect_abstrak=tfidf.fit_transform(bag)"
   ]
  },
  {
   "cell_type": "code",
   "execution_count": 44,
   "metadata": {},
   "outputs": [
    {
     "name": "stdout",
     "output_type": "stream",
     "text": [
      "  (0, 1950)\t0.02352569540823129\n",
      "  (0, 1942)\t0.39130980536213983\n",
      "  (0, 1937)\t0.06521830089368996\n",
      "  (0, 1894)\t0.05691495909803888\n",
      "  (0, 1893)\t0.0328318506224191\n",
      "  (0, 1887)\t0.2421684051863167\n",
      "  (0, 1863)\t0.13043660178737992\n",
      "  (0, 1861)\t0.3260915044684498\n",
      "  (0, 1820)\t0.07180903405623587\n",
      "  (0, 1786)\t0.0440987833820758\n",
      "  (0, 1745)\t0.04736063497148737\n",
      "  (0, 1610)\t0.07180903405623587\n",
      "  (0, 1607)\t0.027790360416179574\n",
      "  (0, 1579)\t0.07180903405623587\n",
      "  (0, 1578)\t0.06054210129657917\n",
      "  (0, 1516)\t0.05395136813403327\n",
      "  (0, 1501)\t0.07180903405623587\n",
      "  (0, 1423)\t0.07180903405623587\n",
      "  (0, 1420)\t0.07180903405623587\n",
      "  (0, 1419)\t0.05691495909803888\n",
      "  (0, 1384)\t0.06521830089368996\n",
      "  (0, 1349)\t0.04965353890434793\n",
      "  (0, 1333)\t0.05395136813403327\n",
      "  (0, 1318)\t0.07180903405623587\n",
      "  (0, 1309)\t0.049275168536922466\n",
      "  :\t:\n",
      "  (59, 777)\t0.10296418628056674\n",
      "  (59, 644)\t0.07089378432281031\n",
      "  (59, 636)\t0.05356323490274638\n",
      "  (59, 588)\t0.023044479565527725\n",
      "  (59, 560)\t0.1561161239422806\n",
      "  (59, 559)\t0.0780580619711403\n",
      "  (59, 558)\t0.4606745390586034\n",
      "  (59, 472)\t0.05864637078861336\n",
      "  (59, 470)\t0.0780580619711403\n",
      "  (59, 443)\t0.04498466001889607\n",
      "  (59, 415)\t0.1561161239422806\n",
      "  (59, 391)\t0.04962044839638466\n",
      "  (59, 369)\t0.04962044839638466\n",
      "  (59, 350)\t0.0780580619711403\n",
      "  (59, 347)\t0.04245617074805466\n",
      "  (59, 313)\t0.0780580619711403\n",
      "  (59, 285)\t0.0780580619711403\n",
      "  (59, 256)\t0.19743194531083003\n",
      "  (59, 141)\t0.04639895725441639\n",
      "  (59, 121)\t0.19743194531083003\n",
      "  (59, 57)\t0.0780580619711403\n",
      "  (59, 56)\t0.03343024835582597\n",
      "  (59, 27)\t0.040244627782880696\n",
      "  (59, 11)\t0.0780580619711403\n",
      "  (59, 7)\t0.07089378432281031\n",
      "(60, 1954)\n"
     ]
    }
   ],
   "source": [
    "print(vect_abstrak)\n",
    "print(vect_abstrak.shape)"
   ]
  },
  {
   "cell_type": "code",
   "execution_count": 46,
   "metadata": {},
   "outputs": [
    {
     "name": "stdout",
     "output_type": "stream",
     "text": [
      "  (0, 14)\t0.009754231117487262\n",
      "  (0, 45)\t0.006002302291061908\n",
      "  (0, 11)\t0.04012148032290412\n",
      "  (0, 57)\t0.004035891918038866\n",
      "  (0, 50)\t0.007754297631236309\n",
      "  (0, 49)\t0.006830902372637364\n",
      "  (0, 40)\t0.012333399513313196\n",
      "  (0, 17)\t0.022938361468223353\n",
      "  (0, 5)\t0.00838321643593109\n",
      "  (0, 24)\t0.023568514851862742\n",
      "  (0, 44)\t0.044917998759975604\n",
      "  (0, 22)\t0.035860886477665124\n",
      "  (0, 54)\t0.04195566505505049\n",
      "  (0, 52)\t0.03649729534483684\n",
      "  (0, 51)\t0.011452716910216161\n",
      "  (0, 39)\t0.09496911363582163\n",
      "  (0, 30)\t0.12209498478972317\n",
      "  (0, 27)\t0.016590430541500504\n",
      "  (0, 23)\t0.01901981696072305\n",
      "  (0, 21)\t0.01620598975974273\n",
      "  (0, 33)\t0.02718022314422755\n",
      "  (0, 15)\t0.030101236000557197\n",
      "  (0, 59)\t0.014244518098079967\n",
      "  (0, 58)\t0.011258468085779566\n",
      "  (0, 56)\t0.08006968184224009\n",
      "  :\t:\n",
      "  (59, 35)\t0.01904599073909586\n",
      "  (59, 34)\t0.029217992730433677\n",
      "  (59, 32)\t0.0203595729784822\n",
      "  (59, 31)\t0.07247378587607378\n",
      "  (59, 29)\t0.020537536395491236\n",
      "  (59, 28)\t0.013888017759914065\n",
      "  (59, 26)\t0.12574099707852604\n",
      "  (59, 25)\t0.013389025340901962\n",
      "  (59, 20)\t0.02981925692104156\n",
      "  (59, 19)\t0.03635521853913973\n",
      "  (59, 16)\t0.011023797319218535\n",
      "  (59, 13)\t0.014580480603242827\n",
      "  (59, 12)\t0.013194026770144113\n",
      "  (59, 10)\t0.014638451367469451\n",
      "  (59, 9)\t0.022349616667248894\n",
      "  (59, 8)\t0.024560322761538696\n",
      "  (59, 7)\t0.3746727840916328\n",
      "  (59, 6)\t0.11145492011770795\n",
      "  (59, 4)\t0.01273005097847118\n",
      "  (59, 3)\t0.01813935176284385\n",
      "  (59, 2)\t0.014873657237739485\n",
      "  (59, 0)\t0.014244518098079967\n",
      "  (59, 59)\t0.999999999999999\n",
      "  (59, 18)\t0.05927837666087602\n",
      "  (59, 1)\t0.0453066746106743\n"
     ]
    }
   ],
   "source": [
    "print(vect_abstrak*vect_abstrak.T)"
   ]
  },
  {
   "cell_type": "markdown",
   "metadata": {},
   "source": [
    "Diatas ini merupakan daftar TF-IDF didalam setiap dokumen."
   ]
  },
  {
   "cell_type": "markdown",
   "metadata": {},
   "source": [
    ">Menampilkan data hasil pemrosesan TD-IDF kedalam bentuk DataFrame agar lebih mudah dibaca"
   ]
  },
  {
   "cell_type": "code",
   "execution_count": 25,
   "metadata": {},
   "outputs": [
    {
     "data": {
      "text/plain": [
       "array(['absolute', 'abstract', 'abstrak', ..., 'xna', 'yangxd',\n",
       "       'yogyakarta'], dtype=object)"
      ]
     },
     "execution_count": 25,
     "metadata": {},
     "output_type": "execute_result"
    }
   ],
   "source": [
    "term=vectorizer.get_feature_names_out()\n",
    "term"
   ]
  },
  {
   "cell_type": "markdown",
   "metadata": {},
   "source": [
    "variabel \"term\" berisi daftar list kata didalam corpus"
   ]
  },
  {
   "cell_type": "code",
   "execution_count": 26,
   "metadata": {},
   "outputs": [
    {
     "data": {
      "text/html": [
       "<div>\n",
       "<style scoped>\n",
       "    .dataframe tbody tr th:only-of-type {\n",
       "        vertical-align: middle;\n",
       "    }\n",
       "\n",
       "    .dataframe tbody tr th {\n",
       "        vertical-align: top;\n",
       "    }\n",
       "\n",
       "    .dataframe thead tr th {\n",
       "        text-align: left;\n",
       "    }\n",
       "</style>\n",
       "<table border=\"1\" class=\"dataframe\">\n",
       "  <thead>\n",
       "    <tr>\n",
       "      <th></th>\n",
       "      <th>absolute</th>\n",
       "      <th>abstract</th>\n",
       "      <th>abstrak</th>\n",
       "      <th>abstrakxd</th>\n",
       "      <th>acuan</th>\n",
       "      <th>adaptif</th>\n",
       "      <th>adm</th>\n",
       "      <th>admin</th>\n",
       "      <th>administrasi</th>\n",
       "      <th>administrator</th>\n",
       "      <th>...</th>\n",
       "      <th>wide</th>\n",
       "      <th>wilayah</th>\n",
       "      <th>window</th>\n",
       "      <th>winnowing</th>\n",
       "      <th>world</th>\n",
       "      <th>www</th>\n",
       "      <th>xd</th>\n",
       "      <th>xna</th>\n",
       "      <th>yangxd</th>\n",
       "      <th>yogyakarta</th>\n",
       "    </tr>\n",
       "  </thead>\n",
       "  <tbody>\n",
       "    <tr>\n",
       "      <th>0</th>\n",
       "      <td>0.0</td>\n",
       "      <td>0.0</td>\n",
       "      <td>0.0</td>\n",
       "      <td>0.000000</td>\n",
       "      <td>0.0</td>\n",
       "      <td>0.0</td>\n",
       "      <td>0.0</td>\n",
       "      <td>0.0</td>\n",
       "      <td>0.0</td>\n",
       "      <td>0.0</td>\n",
       "      <td>...</td>\n",
       "      <td>0.0</td>\n",
       "      <td>0.0</td>\n",
       "      <td>0.0</td>\n",
       "      <td>0.0</td>\n",
       "      <td>0.0</td>\n",
       "      <td>0.0</td>\n",
       "      <td>0.023526</td>\n",
       "      <td>0.0</td>\n",
       "      <td>0.000000</td>\n",
       "      <td>0.0</td>\n",
       "    </tr>\n",
       "    <tr>\n",
       "      <th>1</th>\n",
       "      <td>0.0</td>\n",
       "      <td>0.0</td>\n",
       "      <td>0.0</td>\n",
       "      <td>0.000000</td>\n",
       "      <td>0.0</td>\n",
       "      <td>0.0</td>\n",
       "      <td>0.0</td>\n",
       "      <td>0.0</td>\n",
       "      <td>0.0</td>\n",
       "      <td>0.0</td>\n",
       "      <td>...</td>\n",
       "      <td>0.0</td>\n",
       "      <td>0.0</td>\n",
       "      <td>0.0</td>\n",
       "      <td>0.0</td>\n",
       "      <td>0.0</td>\n",
       "      <td>0.0</td>\n",
       "      <td>0.050494</td>\n",
       "      <td>0.0</td>\n",
       "      <td>0.194916</td>\n",
       "      <td>0.0</td>\n",
       "    </tr>\n",
       "    <tr>\n",
       "      <th>2</th>\n",
       "      <td>0.0</td>\n",
       "      <td>0.0</td>\n",
       "      <td>0.0</td>\n",
       "      <td>0.000000</td>\n",
       "      <td>0.0</td>\n",
       "      <td>0.0</td>\n",
       "      <td>0.0</td>\n",
       "      <td>0.0</td>\n",
       "      <td>0.0</td>\n",
       "      <td>0.0</td>\n",
       "      <td>...</td>\n",
       "      <td>0.0</td>\n",
       "      <td>0.0</td>\n",
       "      <td>0.0</td>\n",
       "      <td>0.0</td>\n",
       "      <td>0.0</td>\n",
       "      <td>0.0</td>\n",
       "      <td>0.053478</td>\n",
       "      <td>0.0</td>\n",
       "      <td>0.000000</td>\n",
       "      <td>0.0</td>\n",
       "    </tr>\n",
       "    <tr>\n",
       "      <th>3</th>\n",
       "      <td>0.0</td>\n",
       "      <td>0.0</td>\n",
       "      <td>0.0</td>\n",
       "      <td>0.000000</td>\n",
       "      <td>0.0</td>\n",
       "      <td>0.0</td>\n",
       "      <td>0.0</td>\n",
       "      <td>0.0</td>\n",
       "      <td>0.0</td>\n",
       "      <td>0.0</td>\n",
       "      <td>...</td>\n",
       "      <td>0.0</td>\n",
       "      <td>0.0</td>\n",
       "      <td>0.0</td>\n",
       "      <td>0.0</td>\n",
       "      <td>0.0</td>\n",
       "      <td>0.0</td>\n",
       "      <td>0.051893</td>\n",
       "      <td>0.0</td>\n",
       "      <td>0.000000</td>\n",
       "      <td>0.0</td>\n",
       "    </tr>\n",
       "    <tr>\n",
       "      <th>4</th>\n",
       "      <td>0.0</td>\n",
       "      <td>0.0</td>\n",
       "      <td>0.0</td>\n",
       "      <td>0.057188</td>\n",
       "      <td>0.0</td>\n",
       "      <td>0.0</td>\n",
       "      <td>0.0</td>\n",
       "      <td>0.0</td>\n",
       "      <td>0.0</td>\n",
       "      <td>0.0</td>\n",
       "      <td>...</td>\n",
       "      <td>0.0</td>\n",
       "      <td>0.0</td>\n",
       "      <td>0.0</td>\n",
       "      <td>0.0</td>\n",
       "      <td>0.0</td>\n",
       "      <td>0.0</td>\n",
       "      <td>0.044445</td>\n",
       "      <td>0.0</td>\n",
       "      <td>0.000000</td>\n",
       "      <td>0.0</td>\n",
       "    </tr>\n",
       "  </tbody>\n",
       "</table>\n",
       "<p>5 rows × 1954 columns</p>\n",
       "</div>"
      ],
      "text/plain": [
       "  absolute abstract abstrak abstrakxd acuan adaptif  adm admin administrasi  \\\n",
       "0      0.0      0.0     0.0  0.000000   0.0     0.0  0.0   0.0          0.0   \n",
       "1      0.0      0.0     0.0  0.000000   0.0     0.0  0.0   0.0          0.0   \n",
       "2      0.0      0.0     0.0  0.000000   0.0     0.0  0.0   0.0          0.0   \n",
       "3      0.0      0.0     0.0  0.000000   0.0     0.0  0.0   0.0          0.0   \n",
       "4      0.0      0.0     0.0  0.057188   0.0     0.0  0.0   0.0          0.0   \n",
       "\n",
       "  administrator  ... wide wilayah window winnowing world  www        xd  xna  \\\n",
       "0           0.0  ...  0.0     0.0    0.0       0.0   0.0  0.0  0.023526  0.0   \n",
       "1           0.0  ...  0.0     0.0    0.0       0.0   0.0  0.0  0.050494  0.0   \n",
       "2           0.0  ...  0.0     0.0    0.0       0.0   0.0  0.0  0.053478  0.0   \n",
       "3           0.0  ...  0.0     0.0    0.0       0.0   0.0  0.0  0.051893  0.0   \n",
       "4           0.0  ...  0.0     0.0    0.0       0.0   0.0  0.0  0.044445  0.0   \n",
       "\n",
       "     yangxd yogyakarta  \n",
       "0  0.000000        0.0  \n",
       "1  0.194916        0.0  \n",
       "2  0.000000        0.0  \n",
       "3  0.000000        0.0  \n",
       "4  0.000000        0.0  \n",
       "\n",
       "[5 rows x 1954 columns]"
      ]
     },
     "execution_count": 26,
     "metadata": {},
     "output_type": "execute_result"
    }
   ],
   "source": [
    "df_Tf_Idf =pd.DataFrame(data=vect_abstrak.toarray(), columns=[term])\n",
    "df_Tf_Idf.head()"
   ]
  },
  {
   "cell_type": "code",
   "execution_count": 27,
   "metadata": {},
   "outputs": [
    {
     "data": {
      "text/plain": [
       "(60, 1954)"
      ]
     },
     "execution_count": 27,
     "metadata": {},
     "output_type": "execute_result"
    }
   ],
   "source": [
    "df_Tf_Idf.shape"
   ]
  },
  {
   "cell_type": "markdown",
   "metadata": {},
   "source": [
    "Dari hasil diatas dapat diketahui kata-kata yang tidak muncul didalam setiap dokumen memiliki nilai TF-IDF nol (0) sedangkan kata-kata yang muncul memiliki nilainya masing-masing"
   ]
  },
  {
   "cell_type": "markdown",
   "metadata": {},
   "source": [
    "## Latent Simantic Analysis (LSA)"
   ]
  },
  {
   "cell_type": "markdown",
   "metadata": {},
   "source": [
    "Algoritma LSA (Latent Semantic Analysis) adalah salah satu algoritma yang dapat digunakan untuk menganalisa hubungan antara sebuah frase/kalimat dengan sekumpulan dokumen. LSA bisa digunakan untuk menilai esai dengan mengkonversikan esai menjadi matriks-matriks yang diberi nilai pada masing-masing term untuk dicari kesamaan dengan term referensi."
   ]
  },
  {
   "cell_type": "markdown",
   "metadata": {},
   "source": [
    "Dalam pemrosesan LSA ada tahap yang dinamakan Singular Value Decomposition (SVD), SVD adalah salah satu teknik reduksi dimensi yang bermanfaat untuk memperkecil nilai kompleksitas dalam pemrosesan term-document matrix. Dengan SVD, term-document matrix dapat dipecah/didekomposisikan menjadi tiga matriks, yaitu :\n",
    "- Matriks ortogonal U\n",
    "- Matriks diagonal S\n",
    "- Transpose dari matriks ortogonal V\n",
    "\n",
    "$$\n",
    "A_{m n}=U_{m m} x S_{m n} x V_{n n}^{T}\n",
    "$$\n",
    "\n",
    "Keterangan:\n",
    "\n",
    "$\n",
    "{A_{m n}}: \\text { Matrix Awal } \\\\\n",
    "$\n",
    "\n",
    "$\n",
    "{U_{m m}}: \\text { Matrix ortogonal U }\\\\\n",
    "$\n",
    "\n",
    "$\n",
    "{S_{m n}}\\>: \\text { Matrix diagonal S }\\\\\n",
    "$\n",
    "\n",
    "$\n",
    "{V_{n n}^{T}}\\>\\>: \\text { Transpose matrix ortogonal V }\\\\\n",
    "$"
   ]
  },
  {
   "cell_type": "markdown",
   "metadata": {},
   "source": [
    "Output dari SVD ini digunakan untuk menghitung similaritasnya dengan pendekatan cosine similarity."
   ]
  },
  {
   "cell_type": "markdown",
   "metadata": {},
   "source": [
    "Cosine similarity merupakan metode untuk menghitung nilai kosinus sudut antara vektor dokumen dengan vektor query. Semakin kecil sudut yang dihasilkan, maka tingkat kemiripan esai semakin tinggi.<br>\n",
    "Untuk rumusnya sendiri seperti berikut.\n",
    "\n",
    "$$\n",
    "\\cos \\alpha=\\frac{\\boldsymbol{A} \\cdot \\boldsymbol{B}}{|\\boldsymbol{A}||\\boldsymbol{B}|}=\\frac{\\sum_{i=1}^{n} \\boldsymbol{A}_{i} X \\boldsymbol{B}_{i}}{\\sqrt{\\sum_{i=1}^{n}\\left(\\boldsymbol{A}_{i}\\right)^{2}} X \\sqrt{\\sum_{i=1}^{n}\\left(\\boldsymbol{B}_{i}\\right)^{2}}}\n",
    "$$\n",
    "\n",
    "Keterangan:\n",
    "\n",
    "$\n",
    "{A}\\> \\quad\\quad: \\text { vektor dokumen } \\\\\n",
    "$\n",
    "\n",
    "$\n",
    "{B}\\>\\quad\\quad: \\text { vektor query }\\\\\n",
    "$\n",
    "\n",
    "$\n",
    "{\\boldsymbol{A} \\cdot \\boldsymbol{B}}\\>: \\text { perkalian dot vektor }\\\\\n",
    "$\n",
    "\n",
    "$\n",
    "{|\\boldsymbol{A}|}\\>\\quad: \\text { panjang vektor A }\\\\\n",
    "$\n",
    "\n",
    "$\n",
    "{|\\boldsymbol{B}|}\\>\\quad: \\text { panjang vektor B }\\\\\n",
    "$\n",
    "\n",
    "$\n",
    "{|\\boldsymbol{A}||\\boldsymbol{B}|}: \\text { Perkalian panjang vektor }\\\\\n",
    "$\n",
    "\n",
    "$\n",
    "\\alpha\\> \\quad\\quad: \\text { sudut yang terbentuk antara vektor A dengan vektor B }\\\\\n",
    "$\n"
   ]
  },
  {
   "cell_type": "markdown",
   "metadata": {},
   "source": [
    ">import library"
   ]
  },
  {
   "cell_type": "code",
   "execution_count": 28,
   "metadata": {},
   "outputs": [],
   "source": [
    "from sklearn.decomposition import TruncatedSVD"
   ]
  },
  {
   "cell_type": "markdown",
   "metadata": {},
   "source": [
    ">Pemrosesan LSA"
   ]
  },
  {
   "cell_type": "code",
   "execution_count": 106,
   "metadata": {},
   "outputs": [],
   "source": [
    "lsa_model = TruncatedSVD(n_components=30, algorithm='randomized', n_iter=10, random_state=42)\n",
    "lsa_top=lsa_model.fit_transform(vect_abstrak)"
   ]
  },
  {
   "cell_type": "markdown",
   "metadata": {},
   "source": [
    "Matrix A yang dicontohkan pada studi kasus kali ini berada di variabel \"vect_abstrak\" yang merupakan hasil TF-IDF, untuk ukurannya sendiri adalah 60x1594."
   ]
  },
  {
   "cell_type": "markdown",
   "metadata": {},
   "source": [
    ">Matrix U"
   ]
  },
  {
   "cell_type": "code",
   "execution_count": 118,
   "metadata": {},
   "outputs": [
    {
     "name": "stdout",
     "output_type": "stream",
     "text": [
      "[[ 0.18215517 -0.02149498 -0.02490526 ... -0.09972154 -0.02502402\n",
      "  -0.0477976 ]\n",
      " [ 0.16098063 -0.14773761 -0.07439766 ...  0.00930681 -0.03245402\n",
      "   0.24848675]\n",
      " [ 0.24614331 -0.01773158 -0.04200162 ...  0.0031997  -0.01299881\n",
      "   0.02113437]\n",
      " ...\n",
      " [ 0.2324977   0.14065033  0.04765212 ...  0.04636623  0.01753218\n",
      "   0.10696102]\n",
      " [ 0.17987848 -0.20628733 -0.07166361 ... -0.0121116  -0.01459998\n",
      "  -0.04033003]\n",
      " [ 0.21857302 -0.19125718 -0.0784087  ... -0.0003768   0.02402209\n",
      "  -0.00088362]]\n",
      "(60, 30)\n"
     ]
    }
   ],
   "source": [
    "print(lsa_top)\n",
    "print(lsa_top.shape)  # (proporsi topik pada setiap dokumen)"
   ]
  },
  {
   "cell_type": "markdown",
   "metadata": {},
   "source": [
    ">Proporsi topik pada dokumen 0"
   ]
  },
  {
   "cell_type": "code",
   "execution_count": 108,
   "metadata": {},
   "outputs": [
    {
     "name": "stdout",
     "output_type": "stream",
     "text": [
      "Document 0 :\n",
      "Topic  0  :  5.464655248832617\n",
      "Topic  1  :  -0.6448493396877895\n",
      "Topic  2  :  -0.7471578386245425\n",
      "Topic  3  :  -5.636242061659817\n",
      "Topic  4  :  -1.2538310916214215\n",
      "Topic  5  :  0.7508691401184951\n",
      "Topic  6  :  -1.1297678560639408\n",
      "Topic  7  :  -2.865911705114658\n",
      "Topic  8  :  7.584131385366334\n",
      "Topic  9  :  15.561085028576182\n",
      "Topic  10  :  1.146673108849752\n",
      "Topic  11  :  8.241479892788217\n",
      "Topic  12  :  -0.1747899895341338\n",
      "Topic  13  :  -1.578602536432936\n",
      "Topic  14  :  1.2711206339227485\n",
      "Topic  15  :  1.1575298617763154\n",
      "Topic  16  :  5.902481290270616\n",
      "Topic  17  :  -0.5914500791221833\n",
      "Topic  18  :  -4.478683095843655\n",
      "Topic  19  :  0.9502463940941887\n",
      "Topic  20  :  1.8355090594531969\n",
      "Topic  21  :  -0.17496194610130084\n",
      "Topic  22  :  -3.674266901654616\n",
      "Topic  23  :  -1.9332035533623226\n",
      "Topic  24  :  -2.7341648614714424\n",
      "Topic  25  :  -3.748407477751517\n",
      "Topic  26  :  1.415946646445061\n",
      "Topic  27  :  -2.991646133433703\n",
      "Topic  28  :  -0.7507205037242879\n",
      "Topic  29  :  -1.4339280763767626\n"
     ]
    }
   ],
   "source": [
    "l=lsa_top[0]\n",
    "print(\"Document 0 :\")\n",
    "for i,topic in enumerate(l):\n",
    "    print(\"Topic \",i,\" : \",topic*30)"
   ]
  },
  {
   "cell_type": "markdown",
   "metadata": {},
   "source": [
    ">Matrix V"
   ]
  },
  {
   "cell_type": "code",
   "execution_count": 109,
   "metadata": {},
   "outputs": [
    {
     "name": "stdout",
     "output_type": "stream",
     "text": [
      "(30, 1954)\n",
      "[[ 0.00478306  0.00428302  0.00428302 ...  0.01011623  0.01741905\n",
      "   0.02266761]\n",
      " [-0.00691579 -0.00374899 -0.00374899 ... -0.02292547 -0.02375878\n",
      "   0.02387931]\n",
      " [-0.0024518   0.0006618   0.0006618  ...  0.06566254 -0.00897782\n",
      "  -0.00023383]\n",
      " ...\n",
      " [-0.00245821  0.01454363  0.01454363 ...  0.0118992   0.00402896\n",
      "   0.01050794]\n",
      " [ 0.00212047  0.00474232  0.00474232 ... -0.01420503 -0.0008124\n",
      "   0.00980831]\n",
      " [-0.00814475  0.01383572  0.01383572 ...  0.01428994  0.05709008\n",
      "  -0.00112266]]\n"
     ]
    }
   ],
   "source": [
    "print(lsa_model.components_.shape) # (proporsi topik terhadap term)\n",
    "print(lsa_model.components_)"
   ]
  },
  {
   "cell_type": "markdown",
   "metadata": {},
   "source": [
    ">S"
   ]
  },
  {
   "cell_type": "code",
   "execution_count": 119,
   "metadata": {},
   "outputs": [
    {
     "name": "stdout",
     "output_type": "stream",
     "text": [
      "[1.80622448 1.46431998 1.37208834 1.31114502 1.29525328 1.25678611\n",
      " 1.22613415 1.21337451 1.19894975 1.17272611 1.15867164 1.13490774\n",
      " 1.10087148 1.09217385 1.05751556 1.05095456 1.04379963 1.02441679\n",
      " 1.02322155 1.01762132 1.00433224 1.00128232 0.99309854 0.98837596\n",
      " 0.9876375  0.98503042 0.97727374 0.96332678 0.96270183 0.95570115]\n",
      "(30,)\n"
     ]
    }
   ],
   "source": [
    "print(lsa_model.singular_values_) \n",
    "print(lsa_model.singular_values_.shape) "
   ]
  },
  {
   "cell_type": "markdown",
   "metadata": {},
   "source": [
    ">Hasil ranking dari setiap topik dalam dokumen seperti dibawah"
   ]
  },
  {
   "cell_type": "code",
   "execution_count": 110,
   "metadata": {},
   "outputs": [
    {
     "name": "stderr",
     "output_type": "stream",
     "text": [
      "c:\\Users\\uchih\\AppData\\Local\\Programs\\Python\\Python310\\lib\\site-packages\\sklearn\\utils\\deprecation.py:87: FutureWarning: Function get_feature_names is deprecated; get_feature_names is deprecated in 1.0 and will be removed in 1.2. Please use get_feature_names_out instead.\n",
      "  warnings.warn(msg, category=FutureWarning)\n"
     ]
    },
    {
     "name": "stdout",
     "output_type": "stream",
     "text": [
      "Topic 0: \n",
      "citra metode batik sistem proses pengenalan tulisan data tangan hasil nilai fitur penelitian xd kriteria perusahaan aplikasi game akurasi ekstraksi manusia coba uji tekstur pencarian keputusan berbasis pola kemiripan kebutuhan \n",
      "\n",
      "Topic 1: \n",
      "citra tulisan tangan pengenalan batik fitur tekstur ekstraksi ciri mosaic gambar panoramic threshold wajah penggabungan masukan pola titik kemiripan keypoint akurasi korespondensi carakan telapak skenario manusia tertinggi obyek arah watershed \n",
      "\n",
      "Topic 2: \n",
      "game mobile gerakan sapi algoritma android pembelajaran gerak depth first prim finite state pekerja fighting npc teknologi budaya machine kerapan search bahasa inggris speech xna player madura gram reality pixels \n",
      "\n",
      "Topic 3: \n",
      "tangan tulisan pengenalan telapak carakan karakter senyum proses huruf garis sistem quantization vector learning pelatihan data klasifikasi orang rata coba wajah bentuk classification dominant fine point direction lvq mdf modified \n",
      "\n",
      "Topic 4: \n",
      "arsitektur enterprise togaf bangkalan adm informasi dinas pelayanan sistem tahapan bisnis aplikasi instansi kepegawaian web perindustrian perdagangan data perancangan teknologi pasien gizi architecture bkd dibahas government kebutuhan intinya komponen tangan \n",
      "\n",
      "Topic 5: \n",
      "gizi pasien status dokumen web penjadwalan balita nilai kuliah algoritma jadwal makanan mata keputusan optimasi penentuan menu pendukung naïve html rumah dokter obat bayes kalori sakit penyakit classifier penjiplakan particle \n",
      "\n",
      "Topic 6: \n",
      "peramalan dokumen produksi penjualan straw permintaan sms algoritma mse nilai part spare periode data single obat jaringan pelanggan mape square web komputer rata error penjadwalan asesoris exponential smoothing cluster pos \n",
      "\n",
      "Topic 7: \n",
      "virtual reality augmented second dunia teknologi life hujan pembelajaran class didalam internet maya ar matematika online animasi platform proses siswa materi visualisasi nyata kkm pelajaran smp satunya mata dokumen aplikasi \n",
      "\n",
      "Topic 8: \n",
      "penjadwalan kuliah algoritma jadwal optimasi mata optimal particle swarm genetika kriteria nilai batik tulis website tool beasiswa commerce optimiztion pso matakuliah permasalahan toko decision multi supplier otomatis model alternatif madura \n",
      "\n",
      "Topic 9: \n",
      "batik website tulis commerce pamekasan decision toko model produk aid khas multi virtual reality unggulan penjualan filtering criteria peramalan madura life fitur bc sdlc rata responden data kabupaten kuisoner waterfall \n",
      "\n",
      "Topic 10: \n",
      "dokumen web html server penjiplakan pencarian halaman aplikasi kriteria browser client webxd karyawan prosentase menerima perusahaan kpi mendeteksi semantik karya berbentuk http kode terenkripsi gram tulis winnowing hash measure window \n",
      "\n",
      "Topic 11: \n",
      "gizi kpi pelanggan batik status tangan penjadwalan pasien balita commerce website tulis kinerja kuliah sms jadwal perusahaan telapak crm tulisan pamekasan scorecard hubungan optimasi model algoritma decision khas toko aid \n",
      "\n",
      "Topic 12: \n",
      "sms informasi pesan sistem web produksi mobile kec jaringan android dokter tes peramalan pencarian siakad orang teknologi cipherteks diinputkan tangan periode toefl telapak gejala pasien beasiswa database keputusan akademik bahan \n",
      "\n",
      "Topic 13: \n",
      "data jaringan siakad kpi sistem pemrosesan akademik idb database informasi distance mobile koneksi beasiswa administrator pencarian som fakultas query dijadikan rekayasa basisdata terdistribusi terpusat epoch senyum cluster gangguan perangkat membutuhkan \n",
      "\n",
      "Topic 14: \n",
      "mobile android tes toefl kalibrasi perangkat teknik teknologi jaringan rata rekayasa lsa vision pemilihan algoritma gizi balita lunak telapak orang kamera plagiarisme sms java depth first prim map organizing self \n",
      "\n",
      "Topic 15: \n",
      "jaringan koneksi administrator part spare gangguan server monitoring ips penyusupan serangan snort pos obat iptables tindakan karyawan tangan pasien keamanan mobile produk kontrol express dokumen penjualan perusahaan alert base terdeteksi \n",
      "\n",
      "Topic 16: \n",
      "jari sidik manusia wajah corepoint senyum rata kec kalibrasi otomatis geometry gr website titik pendeteksian technique region jaringan manual komputer analysis lsa darah balita gerak menentukan proses tulis hasil gizi \n",
      "\n",
      "Topic 17: \n",
      "kec tangan kemiskinan pemetaan telapak merah gerak darah informasi pekerja lsa lahan pertanian kabupaten rata parameter balita sms kalibrasi mosaic orang tanaman kromatin segmentasi sel tingkat smarter geografis panoramic memiliki \n",
      "\n",
      "Topic 18: \n",
      "balita gizi status karyawan kriteria kelas sms puskesmas jaringan jabatan daya arosbaya produksi berstatus lsa data supplier tekstur fanp promosi sub penjadwalan fahp informasi bobot klasifikasi optimal pencarian siakad class \n",
      "\n",
      "Topic 19: \n",
      "kec pemetaan lahan pertanian wajah kabupaten manusia nilai balita straw tanaman gizi cluster mobile status tingkat obat android penjiplakan dokumen karyawan epoch ha pos merah mendeteksi toefl geografis fuzzy berwarna \n",
      "\n",
      "Topic 20: \n",
      "supplier kalibrasi pemilihan vision proses tangan kamera fmop web perhitungan part spare teknik telapak tsai gizi balita siakad status pengukuran pembelian supply chain batasan objective diperoleh parameter obat pencarian sapi \n",
      "\n",
      "Topic 21: \n",
      "supplier kec pemilihan dokter jaringan gejala fmop fuzzy pasien senyum rekayasa penyakit koneksi ips penyusupan serangan snort baku tingkat diagnosa pakar kebutuhan administrator obat chain pembelian supply mamdani produksi pemetaan \n",
      "\n",
      "Topic 22: \n",
      "straw lahan pertanian tanaman kabupaten bangkalan ha senyum kalibrasi jaringan komputer pengukuran error web maps seluas penentuan kec sapi google pencarian jenis koneksi square kpi peternakan produktivitas mse vision administrator \n",
      "\n",
      "Topic 23: \n",
      "kec karyawan part spare kalibrasi dokter penjualan pencarian penilaian perusahaan pemetaan vision web gejala berprestasi rata proses daya kamera mobile asesoris jabatan tes mamdani algoritma peramalan merah fanp promosi tingkat \n",
      "\n",
      "Topic 24: \n",
      "pos produk express persero yangxd indonesia senyum augmented aksara kalibrasi neural rbf inixd edm pola informasi function radial memperoleh gerak analisis pt web reality salah siakad ujicoba network vision pekerja \n",
      "\n",
      "Topic 25: \n",
      "part spare dokumen produksi senyum penjualan periode lahan pertanian gerak algoritma tanaman bangkalan kemiskinan pekerja epoh bahan supplier jaringan smarter rate learning menyebabkan menentukan balita mobile meramalkan penjiplakan baku jenis \n",
      "\n",
      "Topic 26: \n",
      "kalibrasi sms karyawan vision wajah pesan lahan pertanian obat manusia kamera gerak tanaman pekerja aplikasi kabupaten teknik histogram tsai proses straw aksara ha naive skenario finite state cipherteks fitur parameter \n",
      "\n",
      "Topic 27: \n",
      "obat jari sidik sms kebutuhan corepoint pesan class internet jaringan web tugas pencarian rumah karyawan geometry gr otomatis region koneksi diinputkan technique matematika online rekayasa keputusan virtual memperoleh cipherteks sesuai \n",
      "\n",
      "Topic 28: \n",
      "kec wajah augmented reality senyum server ips penyusupan serangan snort kebutuhan ar keamanan obat iptables tindakan algoritma pengenalan rekayasa pendukung pemetaan pencarian sapi seiring flartoolkit library animasi mengembangkan analysis gizi \n",
      "\n",
      "Topic 29: \n",
      "lahan pertanian part spare tanaman pos web ha bangkalan kabupaten maps seluas produk express penjualan telapak google dokter augmented pemilihan epoh persero wajah kesesuaian lokasi supplier yangxd menyebabkan jenis lsa \n",
      "\n"
     ]
    }
   ],
   "source": [
    "# most important words for each topic\n",
    "vocab = vectorizer.get_feature_names()\n",
    "\n",
    "for i, comp in enumerate(lsa_model.components_):\n",
    "    vocab_comp = zip(vocab, comp)\n",
    "    sorted_words = sorted(vocab_comp, key= lambda x:x[1], reverse=True)[:30]\n",
    "    print(\"Topic \"+str(i)+\": \")\n",
    "    for t in sorted_words:\n",
    "        print(t[0],end=\" \")\n",
    "    print(\"\\n\")"
   ]
  },
  {
   "cell_type": "code",
   "execution_count": 111,
   "metadata": {},
   "outputs": [],
   "source": [
    "from wordcloud import WordCloud"
   ]
  },
  {
   "cell_type": "code",
   "execution_count": 112,
   "metadata": {},
   "outputs": [],
   "source": [
    "def draw_word_cloud(index):\n",
    "    imp_words_topic=\"\"\n",
    "    comp=lsa_model.components_[index]\n",
    "    vocab_comp = zip(vocab, comp)\n",
    "    sorted_words = sorted(vocab_comp, key= lambda x:x[1], reverse=True)[:30]\n",
    "    for word in sorted_words:\n",
    "        imp_words_topic=imp_words_topic+\" \"+word[0]\n",
    "\n",
    "    wordcloud = WordCloud(width=600, height=400).generate(imp_words_topic)\n",
    "    plt.figure(figsize=(5,5))\n",
    "    plt.imshow(wordcloud)\n",
    "    plt.axis(\"off\")\n",
    "    plt.tight_layout()\n",
    "    plt.show()"
   ]
  },
  {
   "cell_type": "code",
   "execution_count": 113,
   "metadata": {},
   "outputs": [
    {
     "data": {
      "image/png": "[encoded data removed]",
      "text/plain": [
       "<Figure size 360x360 with 1 Axes>"
      ]
     },
     "metadata": {
      "needs_background": "light"
     },
     "output_type": "display_data"
    }
   ],
   "source": [
    "draw_word_cloud(0)"
   ]
  }
 ],
 "metadata": {
  "interpreter": {
   "hash": "e1b15f5df67a702be8f228f6d0b6061fe0c39795279c81537b9d6008feba9a7d"
  },
  "kernelspec": {
   "display_name": "Python 3.10.2 64-bit",
   "language": "python",
   "name": "python3"
  },
  "language_info": {
   "codemirror_mode": {
    "name": "ipython",
    "version": 3
   },
   "file_extension": ".py",
   "mimetype": "text/x-python",
   "name": "python",
   "nbconvert_exporter": "python",
   "pygments_lexer": "ipython3",
   "version": "3.10.2"
  },
  "orig_nbformat": 4
 },
 "nbformat": 4,
 "nbformat_minor": 2
}
